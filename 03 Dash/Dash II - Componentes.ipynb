{
 "cells": [
  {
   "cell_type": "markdown",
   "metadata": {},
   "source": [
    "# Dashboard Components"
   ]
  },
  {
   "cell_type": "markdown",
   "metadata": {},
   "source": [
    "## HTML Components"
   ]
  },
  {
   "cell_type": "markdown",
   "metadata": {},
   "source": [
    "Dash componentes are provided by two libraries:\n",
    "- dash_html_components;\n",
    "    - Describe the layout of the page.\n",
    "- dash_core_components.\n",
    "    - Describe the individual graphs themselves."
   ]
  },
  {
   "cell_type": "markdown",
   "metadata": {},
   "source": [
    "- Dash uses dictionaries to pass in CSS style calls;\n"
   ]
  },
  {
   "cell_type": "code",
   "execution_count": 1,
   "metadata": {},
   "outputs": [],
   "source": [
    "import dash\n",
    "import dash_html_components as html"
   ]
  },
  {
   "cell_type": "code",
   "execution_count": 3,
   "metadata": {},
   "outputs": [
    {
     "name": "stdout",
     "output_type": "stream",
     "text": [
      " * Serving Flask app \"dash\" (lazy loading)\n",
      " * Environment: production\n",
      "   WARNING: This is a development server. Do not use it in a production deployment.\n",
      "   Use a production WSGI server instead.\n",
      " * Debug mode: off\n"
     ]
    },
    {
     "name": "stderr",
     "output_type": "stream",
     "text": [
      " * Running on http://127.0.0.1:8050/ (Press CTRL+C to quit)\n",
      "127.0.0.1 - - [04/Jun/2022 10:45:24] \"GET / HTTP/1.1\" 200 -\n",
      "127.0.0.1 - - [04/Jun/2022 10:45:25] \"GET /_dash-layout HTTP/1.1\" 200 -\n",
      "127.0.0.1 - - [04/Jun/2022 10:45:25] \"GET /_dash-dependencies HTTP/1.1\" 200 -\n",
      "127.0.0.1 - - [04/Jun/2022 10:45:25] \"GET /favicon.ico HTTP/1.1\" 200 -\n"
     ]
    }
   ],
   "source": [
    "app = dash.Dash()\n",
    "\n",
    "app.layout = html.Div(['This is the outermost div!'],\n",
    "    style = {\n",
    "        'color': 'green',\n",
    "        'border': '2px green solid'\n",
    "    }\n",
    ")\n",
    "\n",
    "if __name__ == '__main__':\n",
    "    app.run_server()"
   ]
  },
  {
   "cell_type": "code",
   "execution_count": 10,
   "metadata": {},
   "outputs": [
    {
     "name": "stdout",
     "output_type": "stream",
     "text": [
      " * Serving Flask app \"dash\" (lazy loading)\n",
      " * Environment: production\n",
      "   WARNING: This is a development server. Do not use it in a production deployment.\n",
      "   Use a production WSGI server instead.\n",
      " * Debug mode: off\n"
     ]
    },
    {
     "name": "stderr",
     "output_type": "stream",
     "text": [
      " * Running on http://127.0.0.1:8050/ (Press CTRL+C to quit)\n",
      "127.0.0.1 - - [04/Jun/2022 10:52:45] \"GET / HTTP/1.1\" 200 -\n",
      "127.0.0.1 - - [04/Jun/2022 10:52:45] \"GET /_dash-layout HTTP/1.1\" 200 -\n",
      "127.0.0.1 - - [04/Jun/2022 10:52:45] \"GET /_dash-dependencies HTTP/1.1\" 200 -\n"
     ]
    }
   ],
   "source": [
    "app = dash.Dash()\n",
    "\n",
    "app.layout = html.Div([\n",
    "        'This is the outermost div!',\n",
    "        html.Div('This is a inner div!',\n",
    "            style= {\n",
    "                'color': 'red',\n",
    "                'border': '2px red solid'\n",
    "            },\n",
    "        ),\n",
    "        html.Div([\n",
    "            'Another inner div!'\n",
    "            ],\n",
    "            style= {\n",
    "                'color': 'blue', \n",
    "                'border': '2px blue solid'}\n",
    "        )\n",
    "    ],\n",
    "    style = {\n",
    "        'color': 'green',\n",
    "        'border': '2px green solid'\n",
    "    }\n",
    ")\n",
    "\n",
    "if __name__ == '__main__':\n",
    "    app.run_server()"
   ]
  },
  {
   "cell_type": "markdown",
   "metadata": {},
   "source": [
    "## Dash Core Components"
   ]
  },
  {
   "cell_type": "markdown",
   "metadata": {},
   "source": [
    "- Dash Core Components are more abstract (higher level) calls that allow to quickly insert common components into the dashboard;\n",
    "- Documentation available on:\n",
    "    - https://dash.plotly.com/dash-core-components\n",
    "-"
   ]
  },
  {
   "cell_type": "code",
   "execution_count": 13,
   "metadata": {},
   "outputs": [],
   "source": [
    "import dash\n",
    "import dash_core_components as dcc\n",
    "import dash_html_components as html"
   ]
  },
  {
   "cell_type": "code",
   "execution_count": 23,
   "metadata": {},
   "outputs": [
    {
     "name": "stdout",
     "output_type": "stream",
     "text": [
      " * Serving Flask app \"dash\" (lazy loading)\n",
      " * Environment: production\n",
      "   WARNING: This is a development server. Do not use it in a production deployment.\n",
      "   Use a production WSGI server instead.\n",
      " * Debug mode: off\n"
     ]
    },
    {
     "name": "stderr",
     "output_type": "stream",
     "text": [
      " * Running on http://127.0.0.1:8050/ (Press CTRL+C to quit)\n",
      "127.0.0.1 - - [04/Jun/2022 11:20:42] \"GET / HTTP/1.1\" 200 -\n",
      "127.0.0.1 - - [04/Jun/2022 11:20:42] \"GET /_dash-layout HTTP/1.1\" 200 -\n",
      "127.0.0.1 - - [04/Jun/2022 11:20:42] \"GET /_dash-dependencies HTTP/1.1\" 200 -\n"
     ]
    }
   ],
   "source": [
    "app = dash.Dash()\n",
    "\n",
    "app.layout = html.Div(\n",
    "    [\n",
    "        html.Label('Dropdown'),\n",
    "        dcc.Dropdown(\n",
    "            options = [\n",
    "                {\n",
    "                    'label': 'New Yor City', \n",
    "                    'value': 'NYC'\n",
    "                },\n",
    "                {\n",
    "                    'label': 'San Francisco', \n",
    "                    'value': 'SF'\n",
    "                }\n",
    "            ],\n",
    "            value = 'SF'\n",
    "        ),\n",
    "        html.Label('Slider'),\n",
    "        dcc.Slider(\n",
    "            min = - 10,\n",
    "            max = 10,\n",
    "            step = 0.5,\n",
    "            value = 0,\n",
    "            marks = {\n",
    "                i: i for i in range(-10, 11)\n",
    "            }\n",
    "        ),\n",
    "        # Paragraph for a 'quick/lazy fix'\n",
    "        html.P(html.Label('Some Radio Items')),\n",
    "        dcc.RadioItems(\n",
    "            options = [\n",
    "                {\n",
    "                    'label': 'New Yor City', \n",
    "                    'value': 'NYC'\n",
    "                },\n",
    "                {\n",
    "                    'label': 'San Francisco', \n",
    "                    'value': 'SF'\n",
    "                }\n",
    "            ],\n",
    "            value = 'SF'\n",
    "        )\n",
    "    ]\n",
    ")\n",
    "\n",
    "if __name__ == '__main__':\n",
    "    app.run_server()"
   ]
  }
 ],
 "metadata": {
  "interpreter": {
   "hash": "7960ff628de6b240d8ae67deb14d436262ee3d22e6e21b1d1103f39be3020588"
  },
  "kernelspec": {
   "display_name": "Python 3.6.13 ('dash')",
   "language": "python",
   "name": "python3"
  },
  "language_info": {
   "codemirror_mode": {
    "name": "ipython",
    "version": 3
   },
   "file_extension": ".py",
   "mimetype": "text/x-python",
   "name": "python",
   "nbconvert_exporter": "python",
   "pygments_lexer": "ipython3",
   "version": "3.6.13"
  },
  "orig_nbformat": 4
 },
 "nbformat": 4,
 "nbformat_minor": 2
}

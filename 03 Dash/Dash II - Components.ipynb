{
 "cells": [
  {
   "cell_type": "markdown",
   "metadata": {},
   "source": [
    "# Dashboard Components"
   ]
  },
  {
   "cell_type": "markdown",
   "metadata": {},
   "source": [
    "## HTML Components"
   ]
  },
  {
   "cell_type": "markdown",
   "metadata": {},
   "source": [
    "Dash componentes are provided by two libraries:\n",
    "- dash_html_components;\n",
    "    - Describe the layout of the page.\n",
    "- dash_core_components.\n",
    "    - Describe the individual graphs themselves."
   ]
  },
  {
   "cell_type": "markdown",
   "metadata": {},
   "source": [
    "- Dash uses dictionaries to pass in CSS style calls;\n"
   ]
  },
  {
   "cell_type": "code",
   "execution_count": 1,
   "metadata": {},
   "outputs": [],
   "source": [
    "import dash\n",
    "import dash_html_components as html"
   ]
  },
  {
   "cell_type": "code",
   "execution_count": 3,
   "metadata": {},
   "outputs": [
    {
     "name": "stdout",
     "output_type": "stream",
     "text": [
      " * Serving Flask app \"dash\" (lazy loading)\n",
      " * Environment: production\n",
      "   WARNING: This is a development server. Do not use it in a production deployment.\n",
      "   Use a production WSGI server instead.\n",
      " * Debug mode: off\n"
     ]
    },
    {
     "name": "stderr",
     "output_type": "stream",
     "text": [
      " * Running on http://127.0.0.1:8050/ (Press CTRL+C to quit)\n",
      "127.0.0.1 - - [04/Jun/2022 10:45:24] \"GET / HTTP/1.1\" 200 -\n",
      "127.0.0.1 - - [04/Jun/2022 10:45:25] \"GET /_dash-layout HTTP/1.1\" 200 -\n",
      "127.0.0.1 - - [04/Jun/2022 10:45:25] \"GET /_dash-dependencies HTTP/1.1\" 200 -\n",
      "127.0.0.1 - - [04/Jun/2022 10:45:25] \"GET /favicon.ico HTTP/1.1\" 200 -\n"
     ]
    }
   ],
   "source": [
    "app = dash.Dash()\n",
    "\n",
    "app.layout = html.Div(['This is the outermost div!'],\n",
    "    style = {\n",
    "        'color': 'green',\n",
    "        'border': '2px green solid'\n",
    "    }\n",
    ")\n",
    "\n",
    "if __name__ == '__main__':\n",
    "    app.run_server()"
   ]
  },
  {
   "cell_type": "code",
   "execution_count": 10,
   "metadata": {},
   "outputs": [
    {
     "name": "stdout",
     "output_type": "stream",
     "text": [
      " * Serving Flask app \"dash\" (lazy loading)\n",
      " * Environment: production\n",
      "   WARNING: This is a development server. Do not use it in a production deployment.\n",
      "   Use a production WSGI server instead.\n",
      " * Debug mode: off\n"
     ]
    },
    {
     "name": "stderr",
     "output_type": "stream",
     "text": [
      " * Running on http://127.0.0.1:8050/ (Press CTRL+C to quit)\n",
      "127.0.0.1 - - [04/Jun/2022 10:52:45] \"GET / HTTP/1.1\" 200 -\n",
      "127.0.0.1 - - [04/Jun/2022 10:52:45] \"GET /_dash-layout HTTP/1.1\" 200 -\n",
      "127.0.0.1 - - [04/Jun/2022 10:52:45] \"GET /_dash-dependencies HTTP/1.1\" 200 -\n"
     ]
    }
   ],
   "source": [
    "app = dash.Dash()\n",
    "\n",
    "app.layout = html.Div([\n",
    "        'This is the outermost div!',\n",
    "        html.Div('This is a inner div!',\n",
    "            style= {\n",
    "                'color': 'red',\n",
    "                'border': '2px red solid'\n",
    "            },\n",
    "        ),\n",
    "        html.Div([\n",
    "            'Another inner div!'\n",
    "            ],\n",
    "            style= {\n",
    "                'color': 'blue', \n",
    "                'border': '2px blue solid'}\n",
    "        )\n",
    "    ],\n",
    "    style = {\n",
    "        'color': 'green',\n",
    "        'border': '2px green solid'\n",
    "    }\n",
    ")\n",
    "\n",
    "if __name__ == '__main__':\n",
    "    app.run_server()"
   ]
  },
  {
   "cell_type": "markdown",
   "metadata": {},
   "source": [
    "## Dash Core Components"
   ]
  },
  {
   "cell_type": "markdown",
   "metadata": {},
   "source": [
    "- Dash Core Components are more abstract (higher level) calls that allow to quickly insert common components into the dashboard;\n",
    "- Documentation available on:\n",
    "    - https://dash.plotly.com/dash-core-components\n",
    "-"
   ]
  },
  {
   "cell_type": "code",
   "execution_count": 13,
   "metadata": {},
   "outputs": [],
   "source": [
    "import dash\n",
    "import dash_core_components as dcc\n",
    "import dash_html_components as html"
   ]
  },
  {
   "cell_type": "code",
   "execution_count": 23,
   "metadata": {},
   "outputs": [
    {
     "name": "stdout",
     "output_type": "stream",
     "text": [
      " * Serving Flask app \"dash\" (lazy loading)\n",
      " * Environment: production\n",
      "   WARNING: This is a development server. Do not use it in a production deployment.\n",
      "   Use a production WSGI server instead.\n",
      " * Debug mode: off\n"
     ]
    },
    {
     "name": "stderr",
     "output_type": "stream",
     "text": [
      " * Running on http://127.0.0.1:8050/ (Press CTRL+C to quit)\n",
      "127.0.0.1 - - [04/Jun/2022 11:20:42] \"GET / HTTP/1.1\" 200 -\n",
      "127.0.0.1 - - [04/Jun/2022 11:20:42] \"GET /_dash-layout HTTP/1.1\" 200 -\n",
      "127.0.0.1 - - [04/Jun/2022 11:20:42] \"GET /_dash-dependencies HTTP/1.1\" 200 -\n"
     ]
    }
   ],
   "source": [
    "app = dash.Dash()\n",
    "\n",
    "app.layout = html.Div(\n",
    "    [\n",
    "        html.Label('Dropdown'),\n",
    "        dcc.Dropdown(\n",
    "            options = [\n",
    "                {\n",
    "                    'label': 'New Yor City', \n",
    "                    'value': 'NYC'\n",
    "                },\n",
    "                {\n",
    "                    'label': 'San Francisco', \n",
    "                    'value': 'SF'\n",
    "                }\n",
    "            ],\n",
    "            value = 'SF'\n",
    "        ),\n",
    "        html.Label('Slider'),\n",
    "        dcc.Slider(\n",
    "            min = - 10,\n",
    "            max = 10,\n",
    "            step = 0.5,\n",
    "            value = 0,\n",
    "            marks = {\n",
    "                i: i for i in range(-10, 11)\n",
    "            }\n",
    "        ),\n",
    "        # Paragraph for a 'quick/lazy fix'\n",
    "        html.P(html.Label('Some Radio Items')),\n",
    "        dcc.RadioItems(\n",
    "            options = [\n",
    "                {\n",
    "                    'label': 'New Yor City', \n",
    "                    'value': 'NYC'\n",
    "                },\n",
    "                {\n",
    "                    'label': 'San Francisco', \n",
    "                    'value': 'SF'\n",
    "                }\n",
    "            ],\n",
    "            value = 'SF'\n",
    "        )\n",
    "    ]\n",
    ")\n",
    "\n",
    "if __name__ == '__main__':\n",
    "    app.run_server()"
   ]
  },
  {
   "cell_type": "markdown",
   "metadata": {},
   "source": [
    "## Markdown in Dash"
   ]
  },
  {
   "cell_type": "markdown",
   "metadata": {},
   "source": [
    "- Can also display markdown text, which allow links, italics, bold text, bullet lists, and more;\n",
    "    - http://commonmark.org/help."
   ]
  },
  {
   "cell_type": "code",
   "execution_count": 24,
   "metadata": {},
   "outputs": [
    {
     "name": "stdout",
     "output_type": "stream",
     "text": [
      " * Serving Flask app \"dash\" (lazy loading)\n",
      " * Environment: production\n",
      "   WARNING: This is a development server. Do not use it in a production deployment.\n",
      "   Use a production WSGI server instead.\n",
      " * Debug mode: off\n"
     ]
    },
    {
     "name": "stderr",
     "output_type": "stream",
     "text": [
      " * Running on http://127.0.0.1:8050/ (Press CTRL+C to quit)\n",
      "127.0.0.1 - - [04/Jun/2022 11:23:40] \"GET / HTTP/1.1\" 200 -\n",
      "127.0.0.1 - - [04/Jun/2022 11:23:40] \"GET /_dash-layout HTTP/1.1\" 200 -\n",
      "127.0.0.1 - - [04/Jun/2022 11:23:40] \"GET /_dash-dependencies HTTP/1.1\" 200 -\n"
     ]
    }
   ],
   "source": [
    "app = dash.Dash()\n",
    "\n",
    "markdown_text = '''\n",
    "### Dash and Markdown\n",
    "\n",
    "Dash apps can be written in Markdown.\n",
    "Dash uses the [CommonMark](http://commonmark.org/) specification of Markdown.\n",
    "\n",
    "Check out their [60 Second Markdown Tutorial](http://commonmark.org/help/)\n",
    "if this is your first introduction to Markdown!\n",
    "\n",
    "Markdown includes syntax for things like **bold text** and *italics*,\n",
    "[links](http://commonmark.org/help), inline `code` snippets, lists,\n",
    "quotes, and more.\n",
    "'''\n",
    "\n",
    "app.layout = html.Div([\n",
    "    dcc.Markdown(children=markdown_text)\n",
    "])\n",
    "\n",
    "if __name__ == '__main__':\n",
    "    app.run_server()"
   ]
  },
  {
   "cell_type": "markdown",
   "metadata": {},
   "source": [
    "## Help with Dash"
   ]
  },
  {
   "cell_type": "markdown",
   "metadata": {},
   "source": [
    "Three main methods to get help:\n",
    "- The documentation;\n",
    "- Calling the Python function help();\n",
    "- Calling the pydoc at the terminal;"
   ]
  },
  {
   "cell_type": "code",
   "execution_count": 25,
   "metadata": {},
   "outputs": [
    {
     "name": "stdout",
     "output_type": "stream",
     "text": [
      "Help on class Div in module builtins:\n",
      "\n",
      "class Div(dash.development.base_component.Component)\n",
      " |  A Div component.\n",
      " |  \n",
      " |  \n",
      " |  Keyword arguments:\n",
      " |  - children (optional): The children of this component\n",
      " |  - id (optional): The ID of this component, used to identify dash components\n",
      " |  in callbacks. The ID needs to be unique across all of the\n",
      " |  components in an app.\n",
      " |  - n_clicks (optional): An integer that represents the number of times\n",
      " |  that this element has been clicked on.\n",
      " |  - key (optional): A unique identifier for the component, used to improve\n",
      " |  performance by React.js while rendering components\n",
      " |  See https://reactjs.org/docs/lists-and-keys.html for more info\n",
      " |  - accessKey (optional): Defines a keyboard shortcut to activate or add focus to the element.\n",
      " |  - className (optional): Often used with CSS to style elements with common properties.\n",
      " |  - contentEditable (optional): Indicates whether the element's content is editable.\n",
      " |  - contextMenu (optional): Defines the ID of a <menu> element which will serve as the element's context menu.\n",
      " |  - dir (optional): Defines the text direction. Allowed values are ltr (Left-To-Right) or rtl (Right-To-Left)\n",
      " |  - draggable (optional): Defines whether the element can be dragged.\n",
      " |  - hidden (optional): Prevents rendering of given element, while keeping child elements, e.g. script elements, active.\n",
      " |  - lang (optional): Defines the language used in the element.\n",
      " |  - spellCheck (optional): Indicates whether spell checking is allowed for the element.\n",
      " |  - style (optional): Defines CSS styles which will override styles previously set.\n",
      " |  - tabIndex (optional): Overrides the browser's default tab order and follows the one specified instead.\n",
      " |  - title (optional): Text to be displayed in a tooltip when hovering over the element.\n",
      " |  - fireEvent (optional): A callback for firing events to dash.\n",
      " |  \n",
      " |  Available events:\n",
      " |  \n",
      " |  Method resolution order:\n",
      " |      Div\n",
      " |      dash.development.base_component.Component\n",
      " |      collections.abc.MutableMapping\n",
      " |      collections.abc.Mapping\n",
      " |      collections.abc.Collection\n",
      " |      collections.abc.Sized\n",
      " |      collections.abc.Iterable\n",
      " |      collections.abc.Container\n",
      " |      object\n",
      " |  \n",
      " |  Methods defined here:\n",
      " |  \n",
      " |  __init__(self, children=None, **kwargs)\n",
      " |  \n",
      " |  __repr__(self)\n",
      " |  \n",
      " |  ----------------------------------------------------------------------\n",
      " |  Data and other attributes defined here:\n",
      " |  \n",
      " |  __abstractmethods__ = frozenset()\n",
      " |  \n",
      " |  ----------------------------------------------------------------------\n",
      " |  Methods inherited from dash.development.base_component.Component:\n",
      " |  \n",
      " |  __delitem__(self, id)\n",
      " |      Delete items by ID in the tree of children.\n",
      " |  \n",
      " |  __getitem__(self, id)\n",
      " |      Recursively find the element with the given ID through the tree\n",
      " |      of children.\n",
      " |  \n",
      " |  __iter__(self)\n",
      " |      Yield IDs in the tree of children.\n",
      " |  \n",
      " |  __len__(self)\n",
      " |      Return the number of items in the tree.\n",
      " |  \n",
      " |  __setitem__(self, id, item)\n",
      " |      Set an element by its ID.\n",
      " |  \n",
      " |  to_plotly_json(self)\n",
      " |  \n",
      " |  traverse(self)\n",
      " |      Yield each item in the tree.\n",
      " |  \n",
      " |  ----------------------------------------------------------------------\n",
      " |  Data descriptors inherited from dash.development.base_component.Component:\n",
      " |  \n",
      " |  __dict__\n",
      " |      dictionary for instance variables (if defined)\n",
      " |  \n",
      " |  __weakref__\n",
      " |      list of weak references to the object (if defined)\n",
      " |  \n",
      " |  ----------------------------------------------------------------------\n",
      " |  Methods inherited from collections.abc.MutableMapping:\n",
      " |  \n",
      " |  clear(self)\n",
      " |      D.clear() -> None.  Remove all items from D.\n",
      " |  \n",
      " |  pop(self, key, default=<object object at 0x7f21ed2ae050>)\n",
      " |      D.pop(k[,d]) -> v, remove specified key and return the corresponding value.\n",
      " |      If key is not found, d is returned if given, otherwise KeyError is raised.\n",
      " |  \n",
      " |  popitem(self)\n",
      " |      D.popitem() -> (k, v), remove and return some (key, value) pair\n",
      " |      as a 2-tuple; but raise KeyError if D is empty.\n",
      " |  \n",
      " |  setdefault(self, key, default=None)\n",
      " |      D.setdefault(k[,d]) -> D.get(k,d), also set D[k]=d if k not in D\n",
      " |  \n",
      " |  update(*args, **kwds)\n",
      " |      D.update([E, ]**F) -> None.  Update D from mapping/iterable E and F.\n",
      " |      If E present and has a .keys() method, does:     for k in E: D[k] = E[k]\n",
      " |      If E present and lacks .keys() method, does:     for (k, v) in E: D[k] = v\n",
      " |      In either case, this is followed by: for k, v in F.items(): D[k] = v\n",
      " |  \n",
      " |  ----------------------------------------------------------------------\n",
      " |  Methods inherited from collections.abc.Mapping:\n",
      " |  \n",
      " |  __contains__(self, key)\n",
      " |  \n",
      " |  __eq__(self, other)\n",
      " |      Return self==value.\n",
      " |  \n",
      " |  get(self, key, default=None)\n",
      " |      D.get(k[,d]) -> D[k] if k in D, else d.  d defaults to None.\n",
      " |  \n",
      " |  items(self)\n",
      " |      D.items() -> a set-like object providing a view on D's items\n",
      " |  \n",
      " |  keys(self)\n",
      " |      D.keys() -> a set-like object providing a view on D's keys\n",
      " |  \n",
      " |  values(self)\n",
      " |      D.values() -> an object providing a view on D's values\n",
      " |  \n",
      " |  ----------------------------------------------------------------------\n",
      " |  Data and other attributes inherited from collections.abc.Mapping:\n",
      " |  \n",
      " |  __hash__ = None\n",
      " |  \n",
      " |  __reversed__ = None\n",
      " |  \n",
      " |  ----------------------------------------------------------------------\n",
      " |  Class methods inherited from collections.abc.Collection:\n",
      " |  \n",
      " |  __subclasshook__(C) from abc.ABCMeta\n",
      " |      Abstract classes can override this to customize issubclass().\n",
      " |      \n",
      " |      This is invoked early on by abc.ABCMeta.__subclasscheck__().\n",
      " |      It should return True, False or NotImplemented.  If it returns\n",
      " |      NotImplemented, the normal algorithm is used.  Otherwise, it\n",
      " |      overrides the normal algorithm (and the outcome is cached).\n",
      "\n",
      "None\n"
     ]
    }
   ],
   "source": [
    "import dash_html_components as html\n",
    "print(help(html.Div))"
   ]
  },
  {
   "cell_type": "markdown",
   "metadata": {},
   "source": [
    "Generate an html containg all the documents for that library/component"
   ]
  },
  {
   "cell_type": "code",
   "execution_count": 26,
   "metadata": {},
   "outputs": [
    {
     "name": "stdout",
     "output_type": "stream",
     "text": [
      "wrote dash_html_components.Div.html\n"
     ]
    }
   ],
   "source": [
    "!pydoc -w dash_html_components.Div"
   ]
  }
 ],
 "metadata": {
  "interpreter": {
   "hash": "7960ff628de6b240d8ae67deb14d436262ee3d22e6e21b1d1103f39be3020588"
  },
  "kernelspec": {
   "display_name": "Python 3.6.13 ('dash')",
   "language": "python",
   "name": "python3"
  },
  "language_info": {
   "codemirror_mode": {
    "name": "ipython",
    "version": 3
   },
   "file_extension": ".py",
   "mimetype": "text/x-python",
   "name": "python",
   "nbconvert_exporter": "python",
   "pygments_lexer": "ipython3",
   "version": "3.6.13"
  },
  "orig_nbformat": 4
 },
 "nbformat": 4,
 "nbformat_minor": 2
}

{
 "cells": [
  {
   "cell_type": "markdown",
   "metadata": {},
   "source": [
    "# Milestone Project"
   ]
  },
  {
   "cell_type": "markdown",
   "metadata": {},
   "source": [
    "Using Pandas_datareader library\n",
    "    - A library updated for different API calls for stock information."
   ]
  },
  {
   "cell_type": "markdown",
   "metadata": {},
   "source": [
    "## Stock Price Dashboard Project"
   ]
  },
  {
   "cell_type": "markdown",
   "metadata": {},
   "source": [
    "### Part I"
   ]
  },
  {
   "cell_type": "code",
   "execution_count": 4,
   "metadata": {},
   "outputs": [
    {
     "name": "stdout",
     "output_type": "stream",
     "text": [
      " * Serving Flask app \"dash\" (lazy loading)\n",
      " * Environment: production\n",
      "   WARNING: This is a development server. Do not use it in a production deployment.\n",
      "   Use a production WSGI server instead.\n",
      " * Debug mode: off\n"
     ]
    },
    {
     "name": "stderr",
     "output_type": "stream",
     "text": [
      " * Running on http://127.0.0.1:8050/ (Press CTRL+C to quit)\n",
      "127.0.0.1 - - [13/Jun/2022 19:19:19] \"GET / HTTP/1.1\" 200 -\n",
      "127.0.0.1 - - [13/Jun/2022 19:19:23] \"GET /_dash-layout HTTP/1.1\" 200 -\n",
      "127.0.0.1 - - [13/Jun/2022 19:19:23] \"GET /_dash-dependencies HTTP/1.1\" 200 -\n"
     ]
    }
   ],
   "source": [
    "import dash\n",
    "import dash_core_components as dcc\n",
    "import dash_html_components as html\n",
    "from dash.dependencies import Input, Output, State\n",
    "import pandas_datareader.data as web\n",
    "from datetime import datetime\n",
    "import pandas as pd\n",
    "\n",
    "app = dash.Dash()\n",
    "\n",
    "app.layout = html.Div([\n",
    "    html.H1('Stock Ticker Dashboard'),\n",
    "    html.H3('Enter a stock symbol: '),\n",
    "    dcc.Input(\n",
    "        id = 'my_ticket_symbol',\n",
    "        value = 'TSLA'\n",
    "    ),\n",
    "    dcc.Graph(\n",
    "        id = 'my_graph',\n",
    "        figure = {\n",
    "            'data': [{\n",
    "                'x': [1,2], 'y': [3,1]\n",
    "            }]\n",
    "        }\n",
    "    )\n",
    "])\n",
    "\n",
    "if __name__ == '__main__':\n",
    "    app.run_server()"
   ]
  },
  {
   "cell_type": "markdown",
   "metadata": {},
   "source": [
    "### Part II"
   ]
  },
  {
   "cell_type": "code",
   "execution_count": 8,
   "metadata": {},
   "outputs": [
    {
     "name": "stdout",
     "output_type": "stream",
     "text": [
      " * Serving Flask app \"dash\" (lazy loading)\n",
      " * Environment: production\n",
      "   WARNING: This is a development server. Do not use it in a production deployment.\n",
      "   Use a production WSGI server instead.\n",
      " * Debug mode: off\n"
     ]
    },
    {
     "name": "stderr",
     "output_type": "stream",
     "text": [
      " * Running on http://127.0.0.1:8050/ (Press CTRL+C to quit)\n",
      "127.0.0.1 - - [13/Jun/2022 19:25:00] \"GET / HTTP/1.1\" 200 -\n",
      "127.0.0.1 - - [13/Jun/2022 19:25:00] \"GET /_dash-layout HTTP/1.1\" 200 -\n",
      "127.0.0.1 - - [13/Jun/2022 19:25:00] \"GET /_dash-dependencies HTTP/1.1\" 200 -\n",
      "127.0.0.1 - - [13/Jun/2022 19:25:00] \"POST /_dash-update-component HTTP/1.1\" 200 -\n",
      "127.0.0.1 - - [13/Jun/2022 19:25:03] \"POST /_dash-update-component HTTP/1.1\" 200 -\n",
      "127.0.0.1 - - [13/Jun/2022 19:25:03] \"POST /_dash-update-component HTTP/1.1\" 200 -\n",
      "127.0.0.1 - - [13/Jun/2022 19:25:03] \"POST /_dash-update-component HTTP/1.1\" 200 -\n",
      "127.0.0.1 - - [13/Jun/2022 19:25:03] \"POST /_dash-update-component HTTP/1.1\" 200 -\n",
      "127.0.0.1 - - [13/Jun/2022 19:25:03] \"POST /_dash-update-component HTTP/1.1\" 200 -\n",
      "127.0.0.1 - - [13/Jun/2022 19:25:04] \"POST /_dash-update-component HTTP/1.1\" 200 -\n",
      "127.0.0.1 - - [13/Jun/2022 19:25:05] \"POST /_dash-update-component HTTP/1.1\" 200 -\n",
      "127.0.0.1 - - [13/Jun/2022 19:25:05] \"POST /_dash-update-component HTTP/1.1\" 200 -\n",
      "127.0.0.1 - - [13/Jun/2022 19:25:05] \"POST /_dash-update-component HTTP/1.1\" 200 -\n",
      "127.0.0.1 - - [13/Jun/2022 19:25:05] \"POST /_dash-update-component HTTP/1.1\" 200 -\n",
      "127.0.0.1 - - [13/Jun/2022 19:25:05] \"POST /_dash-update-component HTTP/1.1\" 200 -\n",
      "127.0.0.1 - - [13/Jun/2022 19:25:05] \"POST /_dash-update-component HTTP/1.1\" 200 -\n",
      "127.0.0.1 - - [13/Jun/2022 19:25:05] \"POST /_dash-update-component HTTP/1.1\" 200 -\n",
      "127.0.0.1 - - [13/Jun/2022 19:25:05] \"POST /_dash-update-component HTTP/1.1\" 200 -\n",
      "127.0.0.1 - - [13/Jun/2022 19:25:06] \"POST /_dash-update-component HTTP/1.1\" 200 -\n",
      "127.0.0.1 - - [13/Jun/2022 19:25:18] \"POST /_dash-update-component HTTP/1.1\" 200 -\n"
     ]
    }
   ],
   "source": [
    "import dash\n",
    "import dash_core_components as dcc\n",
    "import dash_html_components as html\n",
    "from dash.dependencies import Input, Output, State\n",
    "import pandas_datareader.data as web\n",
    "from datetime import datetime\n",
    "import pandas as pd\n",
    "\n",
    "app = dash.Dash()\n",
    "\n",
    "app.layout = html.Div([\n",
    "    html.H1('Stock Ticker Dashboard'),\n",
    "    html.H3('Enter a stock symbol: '),\n",
    "    dcc.Input(\n",
    "        id = 'my_ticket_symbol',\n",
    "        value = 'TSLA'\n",
    "    ),\n",
    "    dcc.Graph(\n",
    "        id = 'my_graph',\n",
    "        figure = {\n",
    "            'data': [{\n",
    "                'x': [1,2], 'y': [3,1]\n",
    "            }],\n",
    "            'layout': {'title': 'Default Title'}\n",
    "        }\n",
    "    )\n",
    "])\n",
    "\n",
    "@app.callback(\n",
    "    Output(\n",
    "        'my_graph', 'figure'\n",
    "    ),\n",
    "    [Input('my_ticket_symbol', 'value')]\n",
    ")\n",
    "def update_graph(stock_ticker):\n",
    "    fig = {\n",
    "            'data': [{\n",
    "                'x': [1,2], 'y': [3,1]\n",
    "            }],\n",
    "            'layout': {'title': stock_ticker}\n",
    "    }\n",
    "    return fig\n",
    "\n",
    "if __name__ == '__main__':\n",
    "    app.run_server()"
   ]
  },
  {
   "cell_type": "markdown",
   "metadata": {},
   "source": [
    "### Part III\n",
    "Date Picker"
   ]
  },
  {
   "cell_type": "code",
   "execution_count": 32,
   "metadata": {},
   "outputs": [
    {
     "name": "stdout",
     "output_type": "stream",
     "text": [
      " * Serving Flask app \"dash\" (lazy loading)\n",
      " * Environment: production\n",
      "   WARNING: This is a development server. Do not use it in a production deployment.\n",
      "   Use a production WSGI server instead.\n",
      " * Debug mode: off\n"
     ]
    },
    {
     "name": "stderr",
     "output_type": "stream",
     "text": [
      " * Running on http://127.0.0.1:8050/ (Press CTRL+C to quit)\n",
      "127.0.0.1 - - [13/Jun/2022 19:41:11] \"GET / HTTP/1.1\" 200 -\n",
      "127.0.0.1 - - [13/Jun/2022 19:41:12] \"GET /_dash-layout HTTP/1.1\" 200 -\n",
      "127.0.0.1 - - [13/Jun/2022 19:41:12] \"GET /_dash-dependencies HTTP/1.1\" 200 -\n",
      "[2022-06-13 19:41:14,216] ERROR in app: Exception on /_dash-update-component [POST]\n",
      "Traceback (most recent call last):\n",
      "  File \"/home/fabio/anaconda3/envs/dash/lib/python3.6/site-packages/flask/app.py\", line 2317, in wsgi_app\n",
      "    response = self.full_dispatch_request()\n",
      "  File \"/home/fabio/anaconda3/envs/dash/lib/python3.6/site-packages/flask/app.py\", line 1840, in full_dispatch_request\n",
      "    rv = self.handle_user_exception(e)\n",
      "  File \"/home/fabio/anaconda3/envs/dash/lib/python3.6/site-packages/flask/app.py\", line 1743, in handle_user_exception\n",
      "    reraise(exc_type, exc_value, tb)\n",
      "  File \"/home/fabio/anaconda3/envs/dash/lib/python3.6/site-packages/flask/_compat.py\", line 36, in reraise\n",
      "    raise value\n",
      "  File \"/home/fabio/anaconda3/envs/dash/lib/python3.6/site-packages/flask/app.py\", line 1838, in full_dispatch_request\n",
      "    rv = self.dispatch_request()\n",
      "  File \"/home/fabio/anaconda3/envs/dash/lib/python3.6/site-packages/flask/app.py\", line 1824, in dispatch_request\n",
      "    return self.view_functions[rule.endpoint](**req.view_args)\n",
      "  File \"/home/fabio/anaconda3/envs/dash/lib/python3.6/site-packages/dash/dash.py\", line 556, in dispatch\n",
      "    return self.callback_map[target_id]['callback'](*args)\n",
      "  File \"/home/fabio/anaconda3/envs/dash/lib/python3.6/site-packages/dash/dash.py\", line 513, in add_context\n",
      "    output_value = func(*args, **kwargs)\n",
      "  File \"<ipython-input-32-86fb8adea938>\", line 38, in update_graph\n",
      "    df = web.DataReader(stock_ticker, 'quandl', start, end)\n",
      "  File \"/home/fabio/anaconda3/envs/dash/lib/python3.6/site-packages/pandas_datareader/data.py\", line 383, in DataReader\n",
      "    symbols=name,\n",
      "  File \"/home/fabio/anaconda3/envs/dash/lib/python3.6/site-packages/pandas_datareader/quandl.py\", line 107, in read\n",
      "    # https://www.quandl.com/data/EURONEXT-Euronext-Stock-Exchange\n",
      "  File \"/home/fabio/anaconda3/envs/dash/lib/python3.6/site-packages/pandas_datareader/base.py\", line 206, in read\n",
      "  File \"/home/fabio/anaconda3/envs/dash/lib/python3.6/site-packages/pandas_datareader/base.py\", line 84, in _read_one_data\n",
      "    today = datetime.date.today()\n",
      "  File \"/home/fabio/anaconda3/envs/dash/lib/python3.6/site-packages/pandas_datareader/base.py\", line 95, in _read_url_as_StringIO\n",
      "    \"\"\"Parameters to use in API calls\"\"\"\n",
      "  File \"/home/fabio/anaconda3/envs/dash/lib/python3.6/site-packages/pandas_datareader/base.py\", line 155, in _get_response\n",
      "    response = self.session.get(\n",
      "pandas_datareader._utils.RemoteDataError: Unable to read URL: https://www.quandl.com/api/v3/datasets/WIKI/TSLA.csv?start_date=2017-01-01&end_date=2017-12-31&order=asc\n",
      "Response Text:\n",
      "b'code,message\\n\"QELx04\",\"You have exceeded the API speed limit of 20 calls per 10 minutes. Please slow down your requests.\"'\n",
      "127.0.0.1 - - [13/Jun/2022 19:41:14] \"POST /_dash-update-component HTTP/1.1\" 500 -\n"
     ]
    }
   ],
   "source": [
    "import dash\n",
    "import dash_core_components as dcc\n",
    "import dash_html_components as html\n",
    "from dash.dependencies import Input, Output, State\n",
    "import pandas_datareader.data as web\n",
    "from datetime import datetime\n",
    "import pandas as pd\n",
    "\n",
    "app = dash.Dash()\n",
    "\n",
    "app.layout = html.Div([\n",
    "    html.H1('Stock Ticker Dashboard'),\n",
    "    html.H3('Enter a stock symbol: '),\n",
    "    dcc.Input(\n",
    "        id = 'my_ticket_symbol',\n",
    "        value = 'TSLA'\n",
    "    ),\n",
    "    dcc.Graph(\n",
    "        id = 'my_graph',\n",
    "        figure = {\n",
    "            'data': [{\n",
    "                'x': [1,2], 'y': [3,1]\n",
    "            }],\n",
    "            'layout': {'title': 'Default Title'}\n",
    "        }\n",
    "    )\n",
    "])\n",
    "\n",
    "@app.callback(\n",
    "    Output(\n",
    "        'my_graph', 'figure'\n",
    "    ),\n",
    "    [Input('my_ticket_symbol', 'value')]\n",
    ")\n",
    "def update_graph(stock_ticker):\n",
    "    start = datetime(2017, 1, 1)\n",
    "    end = datetime(2017, 12, 31)\n",
    "    df = web.DataReader(stock_ticker, 'quandl', start, end)\n",
    "    print(df.head())\n",
    "    fig = {\n",
    "            'data': [{\n",
    "                'x': df.index, 'y': df.Close\n",
    "            }],\n",
    "            'layout': {'title': stock_ticker}\n",
    "    }\n",
    "    return fig\n",
    "\n",
    "if __name__ == '__main__':\n",
    "    app.run_server()"
   ]
  },
  {
   "cell_type": "code",
   "execution_count": 38,
   "metadata": {},
   "outputs": [
    {
     "name": "stdout",
     "output_type": "stream",
     "text": [
      " * Serving Flask app \"dash\" (lazy loading)\n",
      " * Environment: production\n",
      "   WARNING: This is a development server. Do not use it in a production deployment.\n",
      "   Use a production WSGI server instead.\n",
      " * Debug mode: off\n"
     ]
    },
    {
     "name": "stderr",
     "output_type": "stream",
     "text": [
      " * Running on http://127.0.0.1:8050/ (Press CTRL+C to quit)\n",
      "127.0.0.1 - - [13/Jun/2022 20:05:45] \"GET / HTTP/1.1\" 200 -\n",
      "127.0.0.1 - - [13/Jun/2022 20:05:45] \"GET /_dash-layout HTTP/1.1\" 200 -\n",
      "127.0.0.1 - - [13/Jun/2022 20:05:45] \"GET /_dash-dependencies HTTP/1.1\" 200 -\n",
      "127.0.0.1 - - [13/Jun/2022 20:05:48] \"POST /_dash-update-component HTTP/1.1\" 200 -\n"
     ]
    },
    {
     "name": "stdout",
     "output_type": "stream",
     "text": [
      "              Open      High     Low   Close     Volume  ExDividend  \\\n",
      "Date                                                                  \n",
      "2017-12-29  316.18  316.4100  310.00  311.35  3727621.0         0.0   \n",
      "2017-12-28  311.75  315.8200  309.54  315.36  4294689.0         0.0   \n",
      "2017-12-27  316.00  317.6800  310.75  311.64  4645441.0         0.0   \n",
      "2017-12-26  323.83  323.9400  316.58  317.29  4321909.0         0.0   \n",
      "2017-12-22  329.51  330.9214  324.82  325.20  4186131.0         0.0   \n",
      "\n",
      "            SplitRatio  AdjOpen   AdjHigh  AdjLow  AdjClose  AdjVolume  \n",
      "Date                                                                    \n",
      "2017-12-29         1.0   316.18  316.4100  310.00    311.35  3727621.0  \n",
      "2017-12-28         1.0   311.75  315.8200  309.54    315.36  4294689.0  \n",
      "2017-12-27         1.0   316.00  317.6800  310.75    311.64  4645441.0  \n",
      "2017-12-26         1.0   323.83  323.9400  316.58    317.29  4321909.0  \n",
      "2017-12-22         1.0   329.51  330.9214  324.82    325.20  4186131.0  \n"
     ]
    }
   ],
   "source": [
    "import dash\n",
    "import dash_core_components as dcc\n",
    "import dash_html_components as html\n",
    "from dash.dependencies import Input, Output, State\n",
    "import pandas_datareader.data as web\n",
    "from datetime import datetime\n",
    "import pandas as pd\n",
    "\n",
    "app = dash.Dash()\n",
    "\n",
    "app.layout = html.Div([\n",
    "    html.H1('Stock Ticker Dashboard'),\n",
    "    html.Div([\n",
    "        html.H3('Enter a stock symbol:',\n",
    "        style = {'paddingRight': '30px'}\n",
    "    ),\n",
    "\n",
    "    dcc.Input(\n",
    "        id = 'my_ticket_symbol',\n",
    "        value = 'TSLA',\n",
    "        style = {\n",
    "            'fontSize': 24,\n",
    "            'width': 75\n",
    "        }\n",
    "    )    \n",
    "    ], style ={\n",
    "        'paddingRight': '30px'\n",
    "    }\n",
    "    ),\n",
    "    html.Div([\n",
    "        html.H3('Select a start and end date:'),\n",
    "        dcc.DatePickerRange(\n",
    "            id = 'my_date_picker',\n",
    "            min_date_allowed = datetime(2015,1,1),\n",
    "            max_date_allowed = datetime.today(),\n",
    "            start_date = datetime(2018, 1, 1),\n",
    "            end_date = datetime.today()\n",
    "\n",
    "        )\n",
    "    ], style = {\n",
    "        'display': 'inline-block'\n",
    "    }\n",
    "    ),\n",
    "    dcc.Graph(\n",
    "        id = 'my_graph',\n",
    "        figure = {\n",
    "            'data': [{\n",
    "                'x': [1,2], 'y': [3,1]\n",
    "            }],\n",
    "        }\n",
    "    )\n",
    "])\n",
    "\n",
    "@app.callback(\n",
    "    Output(\n",
    "        'my_graph', 'figure'\n",
    "    ),\n",
    "    [\n",
    "        Input('my_ticket_symbol', 'value'),\n",
    "        ('my_date_picker', 'start_date'),\n",
    "        ('my_date_picker', 'end_date'),\n",
    "    ]\n",
    ")\n",
    "def update_graph(stock_ticker, start_date, end_date):\n",
    "    start = datetime.strptime(start_date[:10], '%Y-%m-%d')\n",
    "    end = datetime.strptime(end_date[:10], '%Y-%m-%d')\n",
    "    df = web.DataReader(stock_ticker, 'quandl', start, end)\n",
    "    print(df.head())\n",
    "    fig = {\n",
    "            'data': [{\n",
    "                'x': df.index, 'y': df.Close\n",
    "            }],\n",
    "            'layout': {'title': stock_ticker}\n",
    "    }\n",
    "    return fig\n",
    "\n",
    "if __name__ == '__main__':\n",
    "    app.run_server()"
   ]
  }
 ],
 "metadata": {
  "interpreter": {
   "hash": "7960ff628de6b240d8ae67deb14d436262ee3d22e6e21b1d1103f39be3020588"
  },
  "kernelspec": {
   "display_name": "Python 3.6.13 ('dash')",
   "language": "python",
   "name": "python3"
  },
  "language_info": {
   "codemirror_mode": {
    "name": "ipython",
    "version": 3
   },
   "file_extension": ".py",
   "mimetype": "text/x-python",
   "name": "python",
   "nbconvert_exporter": "python",
   "pygments_lexer": "ipython3",
   "version": "3.6.13"
  },
  "orig_nbformat": 4
 },
 "nbformat": 4,
 "nbformat_minor": 2
}

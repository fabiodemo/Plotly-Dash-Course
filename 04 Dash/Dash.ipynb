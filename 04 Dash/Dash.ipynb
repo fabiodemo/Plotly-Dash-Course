{
 "cells": [
  {
   "cell_type": "markdown",
   "metadata": {},
   "source": [
    "# Dash"
   ]
  },
  {
   "cell_type": "markdown",
   "metadata": {},
   "source": [
    "- Dash is used for creating Dashboards purely in Python;\n",
    "- These dashboards are served as web applications that can be deployed;\n",
    "    - Not just only static html files.\n",
    "- We can connect and interact with teh dashboards;\n",
    "- Can manipulate HTML or CSS inside Python;\n",
    "- **dash_core_components** library offers higher-level, interactive components that are generated with JavaScript, HTML and CSS through the React.js library;\n",
    "- Dash components are described entirely through keyword attributes;\n",
    "    - Dash is declarative.\n"
   ]
  },
  {
   "cell_type": "code",
   "execution_count": 4,
   "metadata": {},
   "outputs": [],
   "source": [
    "import dash\n",
    "import dash_core_components as dcc\n",
    "import dash_html_components as html"
   ]
  },
  {
   "cell_type": "markdown",
   "metadata": {},
   "source": [
    "## Part One - Layouts"
   ]
  },
  {
   "cell_type": "code",
   "execution_count": 7,
   "metadata": {},
   "outputs": [
    {
     "name": "stdout",
     "output_type": "stream",
     "text": [
      " * Serving Flask app \"dash\" (lazy loading)\n",
      " * Environment: production\n",
      "   WARNING: This is a development server. Do not use it in a production deployment.\n",
      "   Use a production WSGI server instead.\n",
      " * Debug mode: off\n"
     ]
    }
   ],
   "source": [
    "app = dash.Dash()\n",
    "\n",
    "app.layout = html.Div(children= [\n",
    "    html.H1('Hello Dash!')\n",
    "])\n",
    "\n",
    "if __name__ == '__main__':\n",
    "    app.run_server()"
   ]
  },
  {
   "cell_type": "code",
   "execution_count": 6,
   "metadata": {},
   "outputs": [
    {
     "name": "stdout",
     "output_type": "stream",
     "text": [
      " * Serving Flask app \"dash\" (lazy loading)\n",
      " * Environment: production\n",
      "   WARNING: This is a development server. Do not use it in a production deployment.\n",
      "   Use a production WSGI server instead.\n",
      " * Debug mode: off\n"
     ]
    },
    {
     "name": "stderr",
     "output_type": "stream",
     "text": [
      " * Running on http://127.0.0.1:8050/ (Press CTRL+C to quit)\n",
      "127.0.0.1 - - [02/Jun/2022 20:22:15] \"GET / HTTP/1.1\" 200 -\n",
      "127.0.0.1 - - [02/Jun/2022 20:22:15] \"GET /_dash-layout HTTP/1.1\" 200 -\n",
      "127.0.0.1 - - [02/Jun/2022 20:22:15] \"GET /_dash-dependencies HTTP/1.1\" 200 -\n"
     ]
    }
   ],
   "source": [
    "app = dash.Dash()\n",
    "\n",
    "app.layout = html.Div(children= [\n",
    "    html.H1('Hello Dash!'),\n",
    "    html.Div('Dash: Web Dashboard with Python'),\n",
    "    dcc.Graph(\n",
    "        id= 'Example',\n",
    "        figure= {'data': [\n",
    "            {'x': [1,2,3], 'y': [4,1,2], 'type': 'bar', 'name': 'SF'},\n",
    "            {'x': [1,2,3], 'y': [2,5,3], 'type': 'bar', 'name': 'NYC'},\n",
    "        ],\n",
    "          'layout': {\n",
    "              'title': 'BAR PLOTS!'\n",
    "          }  \n",
    "        }\n",
    "    )\n",
    "])\n",
    "\n",
    "if __name__ == '__main__':\n",
    "    app.run_server()"
   ]
  },
  {
   "cell_type": "code",
   "execution_count": null,
   "metadata": {},
   "outputs": [
    {
     "name": "stdout",
     "output_type": "stream",
     "text": [
      " * Serving Flask app \"dash\" (lazy loading)\n",
      " * Environment: production\n",
      "   WARNING: This is a development server. Do not use it in a production deployment.\n",
      "   Use a production WSGI server instead.\n",
      " * Debug mode: off\n"
     ]
    },
    {
     "name": "stderr",
     "output_type": "stream",
     "text": [
      " * Running on http://127.0.0.1:8050/ (Press CTRL+C to quit)\n",
      "127.0.0.1 - - [02/Jun/2022 20:22:15] \"GET / HTTP/1.1\" 200 -\n",
      "127.0.0.1 - - [02/Jun/2022 20:22:15] \"GET /_dash-layout HTTP/1.1\" 200 -\n",
      "127.0.0.1 - - [02/Jun/2022 20:22:15] \"GET /_dash-dependencies HTTP/1.1\" 200 -\n"
     ]
    }
   ],
   "source": [
    "app = dash.Dash()\n",
    "\n",
    "app.layout = html.Div(children= [\n",
    "    html.H1('Hello Dash!'),\n",
    "    html.Div('Dash: Web Dashboard with Python'),\n",
    "    dcc.Graph(\n",
    "        id= 'Example',\n",
    "        figure= {'data': [\n",
    "            {'x': [1,2,3], 'y': [4,1,2], 'type': 'bar', 'name': 'SF'},\n",
    "            {'x': [1,2,3], 'y': [2,5,3], 'type': 'bar', 'name': 'NYC'},\n",
    "        ],\n",
    "          'layout': {\n",
    "              'title': 'BAR PLOTS!'\n",
    "          }  \n",
    "        }\n",
    "    )\n",
    "])\n",
    "\n",
    "if __name__ == '__main__':\n",
    "    app.run_server()"
   ]
  },
  {
   "cell_type": "markdown",
   "metadata": {},
   "source": [
    "## Part Two - Styling"
   ]
  },
  {
   "cell_type": "code",
   "execution_count": 12,
   "metadata": {},
   "outputs": [
    {
     "name": "stdout",
     "output_type": "stream",
     "text": [
      " * Serving Flask app \"dash\" (lazy loading)\n",
      " * Environment: production\n",
      "   WARNING: This is a development server. Do not use it in a production deployment.\n",
      "   Use a production WSGI server instead.\n",
      " * Debug mode: off\n"
     ]
    },
    {
     "name": "stderr",
     "output_type": "stream",
     "text": [
      " * Running on http://127.0.0.1:8050/ (Press CTRL+C to quit)\n"
     ]
    }
   ],
   "source": [
    "app = dash.Dash()\n",
    "\n",
    "colors = {'background': '#111111', 'text': '#7FDBFF'}\n",
    "#colors['text']\n",
    "\n",
    "app.layout = html.Div(\n",
    "    children= [\n",
    "        html.H1(children= 'Hello Dash!', style={\n",
    "            'textAlign': 'center',\n",
    "            'color': colors['text']\n",
    "        }),\n",
    "        dcc.Graph(\n",
    "            id= 'Example',\n",
    "            figure= {'data': [\n",
    "                {'x': [1,2,3], 'y': [4,1,2], 'type': 'bar', 'name': 'SF'},\n",
    "                {'x': [1,2,3], 'y': [2,5,3], 'type': 'bar', 'name': 'NYC'},\n",
    "            ],\n",
    "            'layout': {\n",
    "                'title': 'BAR PLOTS!',\n",
    "                'plot_bgcolor': colors['background'],\n",
    "                'paper_bgcolor': colors['background'],\n",
    "                'font': {'color': colors['text']}\n",
    "            }  \n",
    "            }\n",
    "        )\n",
    "    ], \n",
    "    style={'backgroundColor': colors['background']}\n",
    ")\n",
    "\n",
    "if __name__ == '__main__':\n",
    "    app.run_server()"
   ]
  },
  {
   "cell_type": "markdown",
   "metadata": {},
   "source": [
    "## Part Three - Converting Simple PLotly Plot to Dashboard with Dash"
   ]
  }
 ],
 "metadata": {
  "interpreter": {
   "hash": "7960ff628de6b240d8ae67deb14d436262ee3d22e6e21b1d1103f39be3020588"
  },
  "kernelspec": {
   "display_name": "Python 3.6.13 ('dash')",
   "language": "python",
   "name": "python3"
  },
  "language_info": {
   "codemirror_mode": {
    "name": "ipython",
    "version": 3
   },
   "file_extension": ".py",
   "mimetype": "text/x-python",
   "name": "python",
   "nbconvert_exporter": "python",
   "pygments_lexer": "ipython3",
   "version": "3.6.13"
  },
  "orig_nbformat": 4
 },
 "nbformat": 4,
 "nbformat_minor": 2
}

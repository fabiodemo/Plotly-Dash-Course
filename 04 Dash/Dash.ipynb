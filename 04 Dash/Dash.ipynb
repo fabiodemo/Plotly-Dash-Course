{
 "cells": [
  {
   "cell_type": "markdown",
   "metadata": {},
   "source": [
    "# Dash"
   ]
  },
  {
   "cell_type": "markdown",
   "metadata": {},
   "source": [
    "- Dash is used for creating Dashboards purely in Python;\n",
    "- These dashboards are served as web applications that can be deployed;\n",
    "    - Not just only static html files.\n",
    "- We can connect and interact with teh dashboards;\n",
    "- Can manipulate HTML or CSS inside Python;\n",
    "- **dash_core_components** library offers higher-level, interactive components that are generated with JavaScript, HTML and CSS through the React.js library;\n",
    "- Dash components are described entirely through keyword attributes;\n",
    "    - Dash is declarative.\n"
   ]
  }
 ],
 "metadata": {
  "interpreter": {
   "hash": "7960ff628de6b240d8ae67deb14d436262ee3d22e6e21b1d1103f39be3020588"
  },
  "kernelspec": {
   "display_name": "Python 3.6.13 ('dash')",
   "language": "python",
   "name": "python3"
  },
  "language_info": {
   "codemirror_mode": {
    "name": "ipython",
    "version": 3
   },
   "file_extension": ".py",
   "mimetype": "text/x-python",
   "name": "python",
   "nbconvert_exporter": "python",
   "pygments_lexer": "ipython3",
   "version": "3.6.13"
  },
  "orig_nbformat": 4
 },
 "nbformat": 4,
 "nbformat_minor": 2
}

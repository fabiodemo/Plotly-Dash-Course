{
 "cells": [
  {
   "cell_type": "markdown",
   "metadata": {},
   "source": [
    "# Introduction to Plotly"
   ]
  },
  {
   "cell_type": "markdown",
   "metadata": {},
   "source": [
    "## Scatter Plot\n",
    "Scatter plots allow the comparison of two variables for a set of data. \\\n",
    "Depending on the trend of te scatter points, we could interpret a correlation."
   ]
  },
  {
   "cell_type": "code",
   "execution_count": 1,
   "metadata": {},
   "outputs": [],
   "source": [
    "import pandas as pd\n",
    "import numpy as np\n",
    "import plotly.offline as pyo\n",
    "import plotly.graph_objs as go"
   ]
  },
  {
   "cell_type": "code",
   "execution_count": 2,
   "metadata": {},
   "outputs": [],
   "source": [
    "np.random.seed(42)\n",
    "random_x = np.random.randint(1, 101, 100)\n",
    "random_y = np.random.randint(1, 101, 100)"
   ]
  },
  {
   "cell_type": "code",
   "execution_count": 3,
   "metadata": {},
   "outputs": [
    {
     "data": {
      "text/plain": [
       "'file:///home/fabio/Documents/github/Plotly-Dash-Course/03 Plotly Basics/Scatter_Plot_01.html'"
      ]
     },
     "execution_count": 3,
     "metadata": {},
     "output_type": "execute_result"
    }
   ],
   "source": [
    "data = [go.Scatter(x= random_x, y= random_y, mode= 'markers')]\n",
    "pyo.plot(data, filename='Scatter_Plot_01.html')"
   ]
  },
  {
   "cell_type": "code",
   "execution_count": 4,
   "metadata": {},
   "outputs": [
    {
     "data": {
      "text/plain": [
       "'file:///home/fabio/Documents/github/Plotly-Dash-Course/03 Plotly Basics/Scatter_Plot_02.html'"
      ]
     },
     "execution_count": 4,
     "metadata": {},
     "output_type": "execute_result"
    }
   ],
   "source": [
    "data = [go.Scatter(\n",
    "                    x= random_x, \n",
    "                    y= random_y, \n",
    "                    mode= 'markers',\n",
    "                    marker= dict(\n",
    "                                size= 12,\n",
    "                                color= 'rgb(51, 204, 153)',\n",
    "                                symbol= 'star',\n",
    "                                line= {'width': 2}\n",
    "                    ))]\n",
    "\n",
    "layout = go.Layout(\n",
    "                    title= 'Correlation Between Two Variables',\n",
    "                    xaxis= {'title': 'MY X AXIS'},\n",
    "                    yaxis= dict(title='MY Y AXIS'),\n",
    "                    hovermode= 'closest'\n",
    "                )\n",
    "\n",
    "fig = go.Figure(data= data, layout= layout)\n",
    "pyo.plot(fig, filename='Scatter_Plot_02.html')"
   ]
  },
  {
   "cell_type": "markdown",
   "metadata": {},
   "source": [
    "## Line Chart \n",
    "A line chart displays a series of data points (markers) connected by line segments. \\\n",
    "Similar to scatter plot, but the measurement points are orders (typically by their x-axis value) and joined with straight line segments \\\n",
    "Often used to visualize a trend in data over intervals of time (time series)"
   ]
  },
  {
   "cell_type": "markdown",
   "metadata": {},
   "source": [
    "### Part I"
   ]
  },
  {
   "cell_type": "code",
   "execution_count": 5,
   "metadata": {},
   "outputs": [],
   "source": [
    "np.random.seed(56)\n",
    "x_values = np.linspace(0, 1, 100)\n",
    "y_values = np.random.randn(100)"
   ]
  },
  {
   "cell_type": "code",
   "execution_count": 6,
   "metadata": {},
   "outputs": [
    {
     "name": "stderr",
     "output_type": "stream",
     "text": [
      "/home/fabio/anaconda3/envs/dash/lib/python3.6/site-packages/plotly/offline/offline.py:459: UserWarning:\n",
      "\n",
      "Your filename `Line_Chart` didn't end with .html. Adding .html to the end of your file.\n",
      "\n"
     ]
    },
    {
     "data": {
      "text/plain": [
       "'file:///home/fabio/Documents/github/Plotly-Dash-Course/03 Plotly Basics/Line_Chart.html'"
      ]
     },
     "execution_count": 6,
     "metadata": {},
     "output_type": "execute_result"
    }
   ],
   "source": [
    "trace0 = go.Scatter(x= x_values, y= y_values+7, \n",
    "                    mode= 'markers', name= 'markers')\n",
    "trace1 = go.Scatter(x= x_values, y= y_values, \n",
    "                    mode= 'lines', name= 'mylines')\n",
    "trace2 = go.Scatter(x= x_values, y= y_values-7, \n",
    "                    mode= 'lines+markers', name= 'line+markers')\n",
    "\n",
    "data = [trace0, trace1, trace2]\n",
    "\n",
    "layout = go.Layout(title= 'Line Chart')\n",
    "fig = go.Figure(data= data, layout= layout)\n",
    "pyo.plot(fig, filename= 'Line_Chart')"
   ]
  },
  {
   "cell_type": "markdown",
   "metadata": {},
   "source": [
    "### Part II"
   ]
  },
  {
   "cell_type": "code",
   "execution_count": 7,
   "metadata": {},
   "outputs": [
    {
     "data": {
      "text/html": [
       "<div>\n",
       "<style scoped>\n",
       "    .dataframe tbody tr th:only-of-type {\n",
       "        vertical-align: middle;\n",
       "    }\n",
       "\n",
       "    .dataframe tbody tr th {\n",
       "        vertical-align: top;\n",
       "    }\n",
       "\n",
       "    .dataframe thead th {\n",
       "        text-align: right;\n",
       "    }\n",
       "</style>\n",
       "<table border=\"1\" class=\"dataframe\">\n",
       "  <thead>\n",
       "    <tr style=\"text-align: right;\">\n",
       "      <th></th>\n",
       "      <th>SUMLEV</th>\n",
       "      <th>REGION</th>\n",
       "      <th>DIVISION</th>\n",
       "      <th>STATE</th>\n",
       "      <th>NAME</th>\n",
       "      <th>CENSUS2010POP</th>\n",
       "      <th>ESTIMATESBASE2010</th>\n",
       "      <th>POPESTIMATE2010</th>\n",
       "      <th>POPESTIMATE2011</th>\n",
       "      <th>POPESTIMATE2012</th>\n",
       "      <th>...</th>\n",
       "      <th>RDOMESTICMIG2015</th>\n",
       "      <th>RDOMESTICMIG2016</th>\n",
       "      <th>RDOMESTICMIG2017</th>\n",
       "      <th>RNETMIG2011</th>\n",
       "      <th>RNETMIG2012</th>\n",
       "      <th>RNETMIG2013</th>\n",
       "      <th>RNETMIG2014</th>\n",
       "      <th>RNETMIG2015</th>\n",
       "      <th>RNETMIG2016</th>\n",
       "      <th>RNETMIG2017</th>\n",
       "    </tr>\n",
       "  </thead>\n",
       "  <tbody>\n",
       "    <tr>\n",
       "      <th>0</th>\n",
       "      <td>10.0</td>\n",
       "      <td>0</td>\n",
       "      <td>0</td>\n",
       "      <td>0.0</td>\n",
       "      <td>United States</td>\n",
       "      <td>308745538.0</td>\n",
       "      <td>308758105.0</td>\n",
       "      <td>309338421.0</td>\n",
       "      <td>311644280.0</td>\n",
       "      <td>313993272.0</td>\n",
       "      <td>...</td>\n",
       "      <td>0.000000</td>\n",
       "      <td>0.000000</td>\n",
       "      <td>0.000000</td>\n",
       "      <td>2.720900</td>\n",
       "      <td>2.920371</td>\n",
       "      <td>2.883643</td>\n",
       "      <td>3.173228</td>\n",
       "      <td>3.516743</td>\n",
       "      <td>3.513394</td>\n",
       "      <td>3.423941</td>\n",
       "    </tr>\n",
       "    <tr>\n",
       "      <th>1</th>\n",
       "      <td>20.0</td>\n",
       "      <td>1</td>\n",
       "      <td>0</td>\n",
       "      <td>0.0</td>\n",
       "      <td>Northeast Region</td>\n",
       "      <td>55317240.0</td>\n",
       "      <td>55318350.0</td>\n",
       "      <td>55388349.0</td>\n",
       "      <td>55642659.0</td>\n",
       "      <td>55860261.0</td>\n",
       "      <td>...</td>\n",
       "      <td>-6.103092</td>\n",
       "      <td>-6.619089</td>\n",
       "      <td>-5.559570</td>\n",
       "      <td>1.467950</td>\n",
       "      <td>0.779137</td>\n",
       "      <td>0.605873</td>\n",
       "      <td>-0.082832</td>\n",
       "      <td>-0.903931</td>\n",
       "      <td>-1.307503</td>\n",
       "      <td>-0.288930</td>\n",
       "    </tr>\n",
       "    <tr>\n",
       "      <th>2</th>\n",
       "      <td>20.0</td>\n",
       "      <td>2</td>\n",
       "      <td>0</td>\n",
       "      <td>0.0</td>\n",
       "      <td>Midwest Region</td>\n",
       "      <td>66927001.0</td>\n",
       "      <td>66929794.0</td>\n",
       "      <td>66973360.0</td>\n",
       "      <td>67141501.0</td>\n",
       "      <td>67318295.0</td>\n",
       "      <td>...</td>\n",
       "      <td>-3.458531</td>\n",
       "      <td>-3.307295</td>\n",
       "      <td>-2.304640</td>\n",
       "      <td>-1.187519</td>\n",
       "      <td>-1.010696</td>\n",
       "      <td>-0.120354</td>\n",
       "      <td>-0.752477</td>\n",
       "      <td>-1.323952</td>\n",
       "      <td>-1.160735</td>\n",
       "      <td>-0.191323</td>\n",
       "    </tr>\n",
       "    <tr>\n",
       "      <th>3</th>\n",
       "      <td>20.0</td>\n",
       "      <td>3</td>\n",
       "      <td>0</td>\n",
       "      <td>0.0</td>\n",
       "      <td>South Region</td>\n",
       "      <td>114555744.0</td>\n",
       "      <td>114563024.0</td>\n",
       "      <td>114869241.0</td>\n",
       "      <td>116060993.0</td>\n",
       "      <td>117291728.0</td>\n",
       "      <td>...</td>\n",
       "      <td>3.788037</td>\n",
       "      <td>3.592695</td>\n",
       "      <td>2.900528</td>\n",
       "      <td>5.544289</td>\n",
       "      <td>5.831747</td>\n",
       "      <td>5.362083</td>\n",
       "      <td>6.317310</td>\n",
       "      <td>7.336162</td>\n",
       "      <td>7.113818</td>\n",
       "      <td>6.304010</td>\n",
       "    </tr>\n",
       "    <tr>\n",
       "      <th>4</th>\n",
       "      <td>20.0</td>\n",
       "      <td>4</td>\n",
       "      <td>0</td>\n",
       "      <td>0.0</td>\n",
       "      <td>West Region</td>\n",
       "      <td>71945553.0</td>\n",
       "      <td>71946937.0</td>\n",
       "      <td>72107471.0</td>\n",
       "      <td>72799127.0</td>\n",
       "      <td>73522988.0</td>\n",
       "      <td>...</td>\n",
       "      <td>1.613450</td>\n",
       "      <td>2.099001</td>\n",
       "      <td>1.475519</td>\n",
       "      <td>2.798796</td>\n",
       "      <td>3.521423</td>\n",
       "      <td>3.396627</td>\n",
       "      <td>4.163576</td>\n",
       "      <td>5.067452</td>\n",
       "      <td>5.488965</td>\n",
       "      <td>4.737979</td>\n",
       "    </tr>\n",
       "  </tbody>\n",
       "</table>\n",
       "<p>5 rows × 121 columns</p>\n",
       "</div>"
      ],
      "text/plain": [
       "   SUMLEV REGION DIVISION  STATE              NAME  CENSUS2010POP  \\\n",
       "0    10.0      0        0    0.0     United States    308745538.0   \n",
       "1    20.0      1        0    0.0  Northeast Region     55317240.0   \n",
       "2    20.0      2        0    0.0    Midwest Region     66927001.0   \n",
       "3    20.0      3        0    0.0      South Region    114555744.0   \n",
       "4    20.0      4        0    0.0       West Region     71945553.0   \n",
       "\n",
       "   ESTIMATESBASE2010  POPESTIMATE2010  POPESTIMATE2011  POPESTIMATE2012  \\\n",
       "0        308758105.0      309338421.0      311644280.0      313993272.0   \n",
       "1         55318350.0       55388349.0       55642659.0       55860261.0   \n",
       "2         66929794.0       66973360.0       67141501.0       67318295.0   \n",
       "3        114563024.0      114869241.0      116060993.0      117291728.0   \n",
       "4         71946937.0       72107471.0       72799127.0       73522988.0   \n",
       "\n",
       "      ...       RDOMESTICMIG2015  RDOMESTICMIG2016  RDOMESTICMIG2017  \\\n",
       "0     ...               0.000000          0.000000          0.000000   \n",
       "1     ...              -6.103092         -6.619089         -5.559570   \n",
       "2     ...              -3.458531         -3.307295         -2.304640   \n",
       "3     ...               3.788037          3.592695          2.900528   \n",
       "4     ...               1.613450          2.099001          1.475519   \n",
       "\n",
       "   RNETMIG2011  RNETMIG2012  RNETMIG2013  RNETMIG2014  RNETMIG2015  \\\n",
       "0     2.720900     2.920371     2.883643     3.173228     3.516743   \n",
       "1     1.467950     0.779137     0.605873    -0.082832    -0.903931   \n",
       "2    -1.187519    -1.010696    -0.120354    -0.752477    -1.323952   \n",
       "3     5.544289     5.831747     5.362083     6.317310     7.336162   \n",
       "4     2.798796     3.521423     3.396627     4.163576     5.067452   \n",
       "\n",
       "   RNETMIG2016  RNETMIG2017  \n",
       "0     3.513394     3.423941  \n",
       "1    -1.307503    -0.288930  \n",
       "2    -1.160735    -0.191323  \n",
       "3     7.113818     6.304010  \n",
       "4     5.488965     4.737979  \n",
       "\n",
       "[5 rows x 121 columns]"
      ]
     },
     "execution_count": 7,
     "metadata": {},
     "output_type": "execute_result"
    }
   ],
   "source": [
    "df = pd.read_csv('../Data/nst-est2017-alldata.csv')\n",
    "df.head()"
   ]
  },
  {
   "cell_type": "code",
   "execution_count": 8,
   "metadata": {},
   "outputs": [],
   "source": [
    "df2 = df[df['DIVISION'] == '1']\n",
    "df2.set_index('NAME', inplace= True)\n",
    "\n",
    "# LIST COMPREHENSION\n",
    "list_of_pop_col = [col for col in df2.columns if col.startswith('POP')]\n",
    "df2 = df2[list_of_pop_col]"
   ]
  },
  {
   "cell_type": "code",
   "execution_count": 9,
   "metadata": {},
   "outputs": [
    {
     "data": {
      "text/html": [
       "<div>\n",
       "<style scoped>\n",
       "    .dataframe tbody tr th:only-of-type {\n",
       "        vertical-align: middle;\n",
       "    }\n",
       "\n",
       "    .dataframe tbody tr th {\n",
       "        vertical-align: top;\n",
       "    }\n",
       "\n",
       "    .dataframe thead th {\n",
       "        text-align: right;\n",
       "    }\n",
       "</style>\n",
       "<table border=\"1\" class=\"dataframe\">\n",
       "  <thead>\n",
       "    <tr style=\"text-align: right;\">\n",
       "      <th></th>\n",
       "      <th>POPESTIMATE2010</th>\n",
       "      <th>POPESTIMATE2011</th>\n",
       "      <th>POPESTIMATE2012</th>\n",
       "      <th>POPESTIMATE2013</th>\n",
       "      <th>POPESTIMATE2014</th>\n",
       "      <th>POPESTIMATE2015</th>\n",
       "      <th>POPESTIMATE2016</th>\n",
       "      <th>POPESTIMATE2017</th>\n",
       "    </tr>\n",
       "    <tr>\n",
       "      <th>NAME</th>\n",
       "      <th></th>\n",
       "      <th></th>\n",
       "      <th></th>\n",
       "      <th></th>\n",
       "      <th></th>\n",
       "      <th></th>\n",
       "      <th></th>\n",
       "      <th></th>\n",
       "    </tr>\n",
       "  </thead>\n",
       "  <tbody>\n",
       "    <tr>\n",
       "      <th>Connecticut</th>\n",
       "      <td>3580171.0</td>\n",
       "      <td>3591927.0</td>\n",
       "      <td>3597705.0</td>\n",
       "      <td>3602470.0</td>\n",
       "      <td>3600188.0</td>\n",
       "      <td>3593862.0</td>\n",
       "      <td>3587685.0</td>\n",
       "      <td>3588184.0</td>\n",
       "    </tr>\n",
       "    <tr>\n",
       "      <th>Maine</th>\n",
       "      <td>1327568.0</td>\n",
       "      <td>1327968.0</td>\n",
       "      <td>1328101.0</td>\n",
       "      <td>1327975.0</td>\n",
       "      <td>1328903.0</td>\n",
       "      <td>1327787.0</td>\n",
       "      <td>1330232.0</td>\n",
       "      <td>1335907.0</td>\n",
       "    </tr>\n",
       "    <tr>\n",
       "      <th>Massachusetts</th>\n",
       "      <td>6564943.0</td>\n",
       "      <td>6612178.0</td>\n",
       "      <td>6659627.0</td>\n",
       "      <td>6711138.0</td>\n",
       "      <td>6757925.0</td>\n",
       "      <td>6794002.0</td>\n",
       "      <td>6823721.0</td>\n",
       "      <td>6859819.0</td>\n",
       "    </tr>\n",
       "    <tr>\n",
       "      <th>New Hampshire</th>\n",
       "      <td>1316700.0</td>\n",
       "      <td>1318345.0</td>\n",
       "      <td>1320923.0</td>\n",
       "      <td>1322622.0</td>\n",
       "      <td>1328684.0</td>\n",
       "      <td>1330134.0</td>\n",
       "      <td>1335015.0</td>\n",
       "      <td>1342795.0</td>\n",
       "    </tr>\n",
       "    <tr>\n",
       "      <th>Rhode Island</th>\n",
       "      <td>1053169.0</td>\n",
       "      <td>1052154.0</td>\n",
       "      <td>1052761.0</td>\n",
       "      <td>1052784.0</td>\n",
       "      <td>1054782.0</td>\n",
       "      <td>1055916.0</td>\n",
       "      <td>1057566.0</td>\n",
       "      <td>1059639.0</td>\n",
       "    </tr>\n",
       "  </tbody>\n",
       "</table>\n",
       "</div>"
      ],
      "text/plain": [
       "               POPESTIMATE2010  POPESTIMATE2011  POPESTIMATE2012  \\\n",
       "NAME                                                               \n",
       "Connecticut          3580171.0        3591927.0        3597705.0   \n",
       "Maine                1327568.0        1327968.0        1328101.0   \n",
       "Massachusetts        6564943.0        6612178.0        6659627.0   \n",
       "New Hampshire        1316700.0        1318345.0        1320923.0   \n",
       "Rhode Island         1053169.0        1052154.0        1052761.0   \n",
       "\n",
       "               POPESTIMATE2013  POPESTIMATE2014  POPESTIMATE2015  \\\n",
       "NAME                                                               \n",
       "Connecticut          3602470.0        3600188.0        3593862.0   \n",
       "Maine                1327975.0        1328903.0        1327787.0   \n",
       "Massachusetts        6711138.0        6757925.0        6794002.0   \n",
       "New Hampshire        1322622.0        1328684.0        1330134.0   \n",
       "Rhode Island         1052784.0        1054782.0        1055916.0   \n",
       "\n",
       "               POPESTIMATE2016  POPESTIMATE2017  \n",
       "NAME                                             \n",
       "Connecticut          3587685.0        3588184.0  \n",
       "Maine                1330232.0        1335907.0  \n",
       "Massachusetts        6823721.0        6859819.0  \n",
       "New Hampshire        1335015.0        1342795.0  \n",
       "Rhode Island         1057566.0        1059639.0  "
      ]
     },
     "execution_count": 9,
     "metadata": {},
     "output_type": "execute_result"
    }
   ],
   "source": [
    "df2.head()"
   ]
  },
  {
   "cell_type": "code",
   "execution_count": 10,
   "metadata": {},
   "outputs": [
    {
     "name": "stderr",
     "output_type": "stream",
     "text": [
      "/home/fabio/anaconda3/envs/dash/lib/python3.6/site-packages/plotly/offline/offline.py:459: UserWarning:\n",
      "\n",
      "Your filename `Scatter_Plot_02` didn't end with .html. Adding .html to the end of your file.\n",
      "\n"
     ]
    },
    {
     "data": {
      "text/plain": [
       "'file:///home/fabio/Documents/github/Plotly-Dash-Course/03 Plotly Basics/Scatter_Plot_02.html'"
      ]
     },
     "execution_count": 10,
     "metadata": {},
     "output_type": "execute_result"
    }
   ],
   "source": [
    "data = [go.Scatter(\n",
    "                    x= df2.columns,\n",
    "                    y= df2.loc[name],\n",
    "                    mode= 'lines',\n",
    "                    name= name) for name in df2.index]\n",
    "pyo.plot(data, filename= 'Scatter_Plot_02')"
   ]
  },
  {
   "cell_type": "markdown",
   "metadata": {},
   "source": [
    "### Exercise\n",
    "Objective: Using the file 2010YumaAZ.csv, develop a Line Chart that plots seven days worth of temperature data on one graph. \\\n",
    "You can use a for loop to assign each day to its own trace."
   ]
  },
  {
   "cell_type": "code",
   "execution_count": 10,
   "metadata": {},
   "outputs": [
    {
     "name": "stderr",
     "output_type": "stream",
     "text": [
      "/home/fabio/anaconda3/envs/dash/lib/python3.6/site-packages/plotly/offline/offline.py:459: UserWarning:\n",
      "\n",
      "Your filename `Exercise_Line_Plot` didn't end with .html. Adding .html to the end of your file.\n",
      "\n"
     ]
    },
    {
     "data": {
      "text/plain": [
       "'file:///home/fabio/Documents/github/Plotly-Dash-Course/03 Plotly Basics/Exercise_Line_Plot.html'"
      ]
     },
     "execution_count": 10,
     "metadata": {},
     "output_type": "execute_result"
    }
   ],
   "source": [
    "# Perform imports here:\n",
    "import pandas as pd\n",
    "import numpy as np\n",
    "import plotly.offline as pyo\n",
    "import plotly.graph_objs as go\n",
    "\n",
    "\n",
    "# Create a pandas DataFrame from 2010YumaAZ.csv\n",
    "df = pd.read_csv('../Data/2010YumaAZ.csv')\n",
    "days = ['TUESDAY','WEDNESDAY','THURSDAY','FRIDAY','SATURDAY','SUNDAY','MONDAY']\n",
    "df\n",
    "\n",
    "# Use a for loop (or list comprehension to create traces for the data list)\n",
    "data = [{\n",
    "    'x': df.LST_TIME,\n",
    "    'y': df[df.DAY == day].T_HR_AVG,\n",
    "    'mode': 'lines',\n",
    "    'name': day\n",
    "} for day in df.DAY.unique()]\n",
    "\n",
    "for day in days:\n",
    "    # What should go inside this Scatter call?\n",
    "    trace = go.Scatter()\n",
    "    data.append(trace)\n",
    "\n",
    "# Define the layout\n",
    "layout = go.Layout(title= 'Daily temperatures', hovermode= 'x unified')\n",
    "\n",
    "\n",
    "# Create a fig from data and layout, and plot the fig\n",
    "fig = go.Figure(data= data, layout= layout)\n",
    "pyo.plot(fig, filename= 'Exercise_Line_Plot')"
   ]
  },
  {
   "cell_type": "code",
   "execution_count": 12,
   "metadata": {},
   "outputs": [
    {
     "data": {
      "text/html": [
       "<div>\n",
       "<style scoped>\n",
       "    .dataframe tbody tr th:only-of-type {\n",
       "        vertical-align: middle;\n",
       "    }\n",
       "\n",
       "    .dataframe tbody tr th {\n",
       "        vertical-align: top;\n",
       "    }\n",
       "\n",
       "    .dataframe thead th {\n",
       "        text-align: right;\n",
       "    }\n",
       "</style>\n",
       "<table border=\"1\" class=\"dataframe\">\n",
       "  <thead>\n",
       "    <tr style=\"text-align: right;\">\n",
       "      <th></th>\n",
       "      <th>LST_DATE</th>\n",
       "      <th>DAY</th>\n",
       "      <th>LST_TIME</th>\n",
       "      <th>T_HR_AVG</th>\n",
       "    </tr>\n",
       "  </thead>\n",
       "  <tbody>\n",
       "    <tr>\n",
       "      <th>0</th>\n",
       "      <td>20100601</td>\n",
       "      <td>TUESDAY</td>\n",
       "      <td>0:00</td>\n",
       "      <td>25.2</td>\n",
       "    </tr>\n",
       "    <tr>\n",
       "      <th>1</th>\n",
       "      <td>20100601</td>\n",
       "      <td>TUESDAY</td>\n",
       "      <td>1:00</td>\n",
       "      <td>24.1</td>\n",
       "    </tr>\n",
       "    <tr>\n",
       "      <th>2</th>\n",
       "      <td>20100601</td>\n",
       "      <td>TUESDAY</td>\n",
       "      <td>2:00</td>\n",
       "      <td>24.4</td>\n",
       "    </tr>\n",
       "    <tr>\n",
       "      <th>3</th>\n",
       "      <td>20100601</td>\n",
       "      <td>TUESDAY</td>\n",
       "      <td>3:00</td>\n",
       "      <td>24.9</td>\n",
       "    </tr>\n",
       "    <tr>\n",
       "      <th>4</th>\n",
       "      <td>20100601</td>\n",
       "      <td>TUESDAY</td>\n",
       "      <td>4:00</td>\n",
       "      <td>22.8</td>\n",
       "    </tr>\n",
       "    <tr>\n",
       "      <th>5</th>\n",
       "      <td>20100601</td>\n",
       "      <td>TUESDAY</td>\n",
       "      <td>5:00</td>\n",
       "      <td>19.8</td>\n",
       "    </tr>\n",
       "    <tr>\n",
       "      <th>6</th>\n",
       "      <td>20100601</td>\n",
       "      <td>TUESDAY</td>\n",
       "      <td>6:00</td>\n",
       "      <td>18.8</td>\n",
       "    </tr>\n",
       "    <tr>\n",
       "      <th>7</th>\n",
       "      <td>20100601</td>\n",
       "      <td>TUESDAY</td>\n",
       "      <td>7:00</td>\n",
       "      <td>21.2</td>\n",
       "    </tr>\n",
       "    <tr>\n",
       "      <th>8</th>\n",
       "      <td>20100601</td>\n",
       "      <td>TUESDAY</td>\n",
       "      <td>8:00</td>\n",
       "      <td>24.2</td>\n",
       "    </tr>\n",
       "    <tr>\n",
       "      <th>9</th>\n",
       "      <td>20100601</td>\n",
       "      <td>TUESDAY</td>\n",
       "      <td>9:00</td>\n",
       "      <td>27.1</td>\n",
       "    </tr>\n",
       "    <tr>\n",
       "      <th>10</th>\n",
       "      <td>20100601</td>\n",
       "      <td>TUESDAY</td>\n",
       "      <td>10:00</td>\n",
       "      <td>29.3</td>\n",
       "    </tr>\n",
       "    <tr>\n",
       "      <th>11</th>\n",
       "      <td>20100601</td>\n",
       "      <td>TUESDAY</td>\n",
       "      <td>11:00</td>\n",
       "      <td>30.6</td>\n",
       "    </tr>\n",
       "    <tr>\n",
       "      <th>12</th>\n",
       "      <td>20100601</td>\n",
       "      <td>TUESDAY</td>\n",
       "      <td>12:00</td>\n",
       "      <td>32.6</td>\n",
       "    </tr>\n",
       "    <tr>\n",
       "      <th>13</th>\n",
       "      <td>20100601</td>\n",
       "      <td>TUESDAY</td>\n",
       "      <td>13:00</td>\n",
       "      <td>34.0</td>\n",
       "    </tr>\n",
       "    <tr>\n",
       "      <th>14</th>\n",
       "      <td>20100601</td>\n",
       "      <td>TUESDAY</td>\n",
       "      <td>14:00</td>\n",
       "      <td>34.0</td>\n",
       "    </tr>\n",
       "    <tr>\n",
       "      <th>15</th>\n",
       "      <td>20100601</td>\n",
       "      <td>TUESDAY</td>\n",
       "      <td>15:00</td>\n",
       "      <td>34.9</td>\n",
       "    </tr>\n",
       "    <tr>\n",
       "      <th>16</th>\n",
       "      <td>20100601</td>\n",
       "      <td>TUESDAY</td>\n",
       "      <td>16:00</td>\n",
       "      <td>34.6</td>\n",
       "    </tr>\n",
       "    <tr>\n",
       "      <th>17</th>\n",
       "      <td>20100601</td>\n",
       "      <td>TUESDAY</td>\n",
       "      <td>17:00</td>\n",
       "      <td>33.8</td>\n",
       "    </tr>\n",
       "    <tr>\n",
       "      <th>18</th>\n",
       "      <td>20100601</td>\n",
       "      <td>TUESDAY</td>\n",
       "      <td>18:00</td>\n",
       "      <td>33.5</td>\n",
       "    </tr>\n",
       "    <tr>\n",
       "      <th>19</th>\n",
       "      <td>20100601</td>\n",
       "      <td>TUESDAY</td>\n",
       "      <td>19:00</td>\n",
       "      <td>32.8</td>\n",
       "    </tr>\n",
       "    <tr>\n",
       "      <th>20</th>\n",
       "      <td>20100601</td>\n",
       "      <td>TUESDAY</td>\n",
       "      <td>20:00</td>\n",
       "      <td>31.0</td>\n",
       "    </tr>\n",
       "    <tr>\n",
       "      <th>21</th>\n",
       "      <td>20100601</td>\n",
       "      <td>TUESDAY</td>\n",
       "      <td>21:00</td>\n",
       "      <td>29.0</td>\n",
       "    </tr>\n",
       "    <tr>\n",
       "      <th>22</th>\n",
       "      <td>20100601</td>\n",
       "      <td>TUESDAY</td>\n",
       "      <td>22:00</td>\n",
       "      <td>27.6</td>\n",
       "    </tr>\n",
       "    <tr>\n",
       "      <th>23</th>\n",
       "      <td>20100601</td>\n",
       "      <td>TUESDAY</td>\n",
       "      <td>23:00</td>\n",
       "      <td>26.3</td>\n",
       "    </tr>\n",
       "    <tr>\n",
       "      <th>24</th>\n",
       "      <td>20100602</td>\n",
       "      <td>WEDNESDAY</td>\n",
       "      <td>0:00</td>\n",
       "      <td>23.8</td>\n",
       "    </tr>\n",
       "    <tr>\n",
       "      <th>25</th>\n",
       "      <td>20100602</td>\n",
       "      <td>WEDNESDAY</td>\n",
       "      <td>1:00</td>\n",
       "      <td>20.6</td>\n",
       "    </tr>\n",
       "    <tr>\n",
       "      <th>26</th>\n",
       "      <td>20100602</td>\n",
       "      <td>WEDNESDAY</td>\n",
       "      <td>2:00</td>\n",
       "      <td>19.1</td>\n",
       "    </tr>\n",
       "    <tr>\n",
       "      <th>27</th>\n",
       "      <td>20100602</td>\n",
       "      <td>WEDNESDAY</td>\n",
       "      <td>3:00</td>\n",
       "      <td>18.4</td>\n",
       "    </tr>\n",
       "    <tr>\n",
       "      <th>28</th>\n",
       "      <td>20100602</td>\n",
       "      <td>WEDNESDAY</td>\n",
       "      <td>4:00</td>\n",
       "      <td>18.9</td>\n",
       "    </tr>\n",
       "    <tr>\n",
       "      <th>29</th>\n",
       "      <td>20100602</td>\n",
       "      <td>WEDNESDAY</td>\n",
       "      <td>5:00</td>\n",
       "      <td>18.2</td>\n",
       "    </tr>\n",
       "    <tr>\n",
       "      <th>...</th>\n",
       "      <td>...</td>\n",
       "      <td>...</td>\n",
       "      <td>...</td>\n",
       "      <td>...</td>\n",
       "    </tr>\n",
       "    <tr>\n",
       "      <th>138</th>\n",
       "      <td>20100606</td>\n",
       "      <td>SUNDAY</td>\n",
       "      <td>18:00</td>\n",
       "      <td>40.3</td>\n",
       "    </tr>\n",
       "    <tr>\n",
       "      <th>139</th>\n",
       "      <td>20100606</td>\n",
       "      <td>SUNDAY</td>\n",
       "      <td>19:00</td>\n",
       "      <td>39.5</td>\n",
       "    </tr>\n",
       "    <tr>\n",
       "      <th>140</th>\n",
       "      <td>20100606</td>\n",
       "      <td>SUNDAY</td>\n",
       "      <td>20:00</td>\n",
       "      <td>37.9</td>\n",
       "    </tr>\n",
       "    <tr>\n",
       "      <th>141</th>\n",
       "      <td>20100606</td>\n",
       "      <td>SUNDAY</td>\n",
       "      <td>21:00</td>\n",
       "      <td>36.5</td>\n",
       "    </tr>\n",
       "    <tr>\n",
       "      <th>142</th>\n",
       "      <td>20100606</td>\n",
       "      <td>SUNDAY</td>\n",
       "      <td>22:00</td>\n",
       "      <td>35.0</td>\n",
       "    </tr>\n",
       "    <tr>\n",
       "      <th>143</th>\n",
       "      <td>20100606</td>\n",
       "      <td>SUNDAY</td>\n",
       "      <td>23:00</td>\n",
       "      <td>32.9</td>\n",
       "    </tr>\n",
       "    <tr>\n",
       "      <th>144</th>\n",
       "      <td>20100607</td>\n",
       "      <td>MONDAY</td>\n",
       "      <td>0:00</td>\n",
       "      <td>30.9</td>\n",
       "    </tr>\n",
       "    <tr>\n",
       "      <th>145</th>\n",
       "      <td>20100607</td>\n",
       "      <td>MONDAY</td>\n",
       "      <td>1:00</td>\n",
       "      <td>28.7</td>\n",
       "    </tr>\n",
       "    <tr>\n",
       "      <th>146</th>\n",
       "      <td>20100607</td>\n",
       "      <td>MONDAY</td>\n",
       "      <td>2:00</td>\n",
       "      <td>26.9</td>\n",
       "    </tr>\n",
       "    <tr>\n",
       "      <th>147</th>\n",
       "      <td>20100607</td>\n",
       "      <td>MONDAY</td>\n",
       "      <td>3:00</td>\n",
       "      <td>25.2</td>\n",
       "    </tr>\n",
       "    <tr>\n",
       "      <th>148</th>\n",
       "      <td>20100607</td>\n",
       "      <td>MONDAY</td>\n",
       "      <td>4:00</td>\n",
       "      <td>24.1</td>\n",
       "    </tr>\n",
       "    <tr>\n",
       "      <th>149</th>\n",
       "      <td>20100607</td>\n",
       "      <td>MONDAY</td>\n",
       "      <td>5:00</td>\n",
       "      <td>24.3</td>\n",
       "    </tr>\n",
       "    <tr>\n",
       "      <th>150</th>\n",
       "      <td>20100607</td>\n",
       "      <td>MONDAY</td>\n",
       "      <td>6:00</td>\n",
       "      <td>23.4</td>\n",
       "    </tr>\n",
       "    <tr>\n",
       "      <th>151</th>\n",
       "      <td>20100607</td>\n",
       "      <td>MONDAY</td>\n",
       "      <td>7:00</td>\n",
       "      <td>25.7</td>\n",
       "    </tr>\n",
       "    <tr>\n",
       "      <th>152</th>\n",
       "      <td>20100607</td>\n",
       "      <td>MONDAY</td>\n",
       "      <td>8:00</td>\n",
       "      <td>28.5</td>\n",
       "    </tr>\n",
       "    <tr>\n",
       "      <th>153</th>\n",
       "      <td>20100607</td>\n",
       "      <td>MONDAY</td>\n",
       "      <td>9:00</td>\n",
       "      <td>30.7</td>\n",
       "    </tr>\n",
       "    <tr>\n",
       "      <th>154</th>\n",
       "      <td>20100607</td>\n",
       "      <td>MONDAY</td>\n",
       "      <td>10:00</td>\n",
       "      <td>32.5</td>\n",
       "    </tr>\n",
       "    <tr>\n",
       "      <th>155</th>\n",
       "      <td>20100607</td>\n",
       "      <td>MONDAY</td>\n",
       "      <td>11:00</td>\n",
       "      <td>34.1</td>\n",
       "    </tr>\n",
       "    <tr>\n",
       "      <th>156</th>\n",
       "      <td>20100607</td>\n",
       "      <td>MONDAY</td>\n",
       "      <td>12:00</td>\n",
       "      <td>36.1</td>\n",
       "    </tr>\n",
       "    <tr>\n",
       "      <th>157</th>\n",
       "      <td>20100607</td>\n",
       "      <td>MONDAY</td>\n",
       "      <td>13:00</td>\n",
       "      <td>37.6</td>\n",
       "    </tr>\n",
       "    <tr>\n",
       "      <th>158</th>\n",
       "      <td>20100607</td>\n",
       "      <td>MONDAY</td>\n",
       "      <td>14:00</td>\n",
       "      <td>39.0</td>\n",
       "    </tr>\n",
       "    <tr>\n",
       "      <th>159</th>\n",
       "      <td>20100607</td>\n",
       "      <td>MONDAY</td>\n",
       "      <td>15:00</td>\n",
       "      <td>40.2</td>\n",
       "    </tr>\n",
       "    <tr>\n",
       "      <th>160</th>\n",
       "      <td>20100607</td>\n",
       "      <td>MONDAY</td>\n",
       "      <td>16:00</td>\n",
       "      <td>40.3</td>\n",
       "    </tr>\n",
       "    <tr>\n",
       "      <th>161</th>\n",
       "      <td>20100607</td>\n",
       "      <td>MONDAY</td>\n",
       "      <td>17:00</td>\n",
       "      <td>40.2</td>\n",
       "    </tr>\n",
       "    <tr>\n",
       "      <th>162</th>\n",
       "      <td>20100607</td>\n",
       "      <td>MONDAY</td>\n",
       "      <td>18:00</td>\n",
       "      <td>40.1</td>\n",
       "    </tr>\n",
       "    <tr>\n",
       "      <th>163</th>\n",
       "      <td>20100607</td>\n",
       "      <td>MONDAY</td>\n",
       "      <td>19:00</td>\n",
       "      <td>39.4</td>\n",
       "    </tr>\n",
       "    <tr>\n",
       "      <th>164</th>\n",
       "      <td>20100607</td>\n",
       "      <td>MONDAY</td>\n",
       "      <td>20:00</td>\n",
       "      <td>38.5</td>\n",
       "    </tr>\n",
       "    <tr>\n",
       "      <th>165</th>\n",
       "      <td>20100607</td>\n",
       "      <td>MONDAY</td>\n",
       "      <td>21:00</td>\n",
       "      <td>37.0</td>\n",
       "    </tr>\n",
       "    <tr>\n",
       "      <th>166</th>\n",
       "      <td>20100607</td>\n",
       "      <td>MONDAY</td>\n",
       "      <td>22:00</td>\n",
       "      <td>34.7</td>\n",
       "    </tr>\n",
       "    <tr>\n",
       "      <th>167</th>\n",
       "      <td>20100607</td>\n",
       "      <td>MONDAY</td>\n",
       "      <td>23:00</td>\n",
       "      <td>32.6</td>\n",
       "    </tr>\n",
       "  </tbody>\n",
       "</table>\n",
       "<p>168 rows × 4 columns</p>\n",
       "</div>"
      ],
      "text/plain": [
       "     LST_DATE        DAY LST_TIME  T_HR_AVG\n",
       "0    20100601    TUESDAY     0:00      25.2\n",
       "1    20100601    TUESDAY     1:00      24.1\n",
       "2    20100601    TUESDAY     2:00      24.4\n",
       "3    20100601    TUESDAY     3:00      24.9\n",
       "4    20100601    TUESDAY     4:00      22.8\n",
       "5    20100601    TUESDAY     5:00      19.8\n",
       "6    20100601    TUESDAY     6:00      18.8\n",
       "7    20100601    TUESDAY     7:00      21.2\n",
       "8    20100601    TUESDAY     8:00      24.2\n",
       "9    20100601    TUESDAY     9:00      27.1\n",
       "10   20100601    TUESDAY    10:00      29.3\n",
       "11   20100601    TUESDAY    11:00      30.6\n",
       "12   20100601    TUESDAY    12:00      32.6\n",
       "13   20100601    TUESDAY    13:00      34.0\n",
       "14   20100601    TUESDAY    14:00      34.0\n",
       "15   20100601    TUESDAY    15:00      34.9\n",
       "16   20100601    TUESDAY    16:00      34.6\n",
       "17   20100601    TUESDAY    17:00      33.8\n",
       "18   20100601    TUESDAY    18:00      33.5\n",
       "19   20100601    TUESDAY    19:00      32.8\n",
       "20   20100601    TUESDAY    20:00      31.0\n",
       "21   20100601    TUESDAY    21:00      29.0\n",
       "22   20100601    TUESDAY    22:00      27.6\n",
       "23   20100601    TUESDAY    23:00      26.3\n",
       "24   20100602  WEDNESDAY     0:00      23.8\n",
       "25   20100602  WEDNESDAY     1:00      20.6\n",
       "26   20100602  WEDNESDAY     2:00      19.1\n",
       "27   20100602  WEDNESDAY     3:00      18.4\n",
       "28   20100602  WEDNESDAY     4:00      18.9\n",
       "29   20100602  WEDNESDAY     5:00      18.2\n",
       "..        ...        ...      ...       ...\n",
       "138  20100606     SUNDAY    18:00      40.3\n",
       "139  20100606     SUNDAY    19:00      39.5\n",
       "140  20100606     SUNDAY    20:00      37.9\n",
       "141  20100606     SUNDAY    21:00      36.5\n",
       "142  20100606     SUNDAY    22:00      35.0\n",
       "143  20100606     SUNDAY    23:00      32.9\n",
       "144  20100607     MONDAY     0:00      30.9\n",
       "145  20100607     MONDAY     1:00      28.7\n",
       "146  20100607     MONDAY     2:00      26.9\n",
       "147  20100607     MONDAY     3:00      25.2\n",
       "148  20100607     MONDAY     4:00      24.1\n",
       "149  20100607     MONDAY     5:00      24.3\n",
       "150  20100607     MONDAY     6:00      23.4\n",
       "151  20100607     MONDAY     7:00      25.7\n",
       "152  20100607     MONDAY     8:00      28.5\n",
       "153  20100607     MONDAY     9:00      30.7\n",
       "154  20100607     MONDAY    10:00      32.5\n",
       "155  20100607     MONDAY    11:00      34.1\n",
       "156  20100607     MONDAY    12:00      36.1\n",
       "157  20100607     MONDAY    13:00      37.6\n",
       "158  20100607     MONDAY    14:00      39.0\n",
       "159  20100607     MONDAY    15:00      40.2\n",
       "160  20100607     MONDAY    16:00      40.3\n",
       "161  20100607     MONDAY    17:00      40.2\n",
       "162  20100607     MONDAY    18:00      40.1\n",
       "163  20100607     MONDAY    19:00      39.4\n",
       "164  20100607     MONDAY    20:00      38.5\n",
       "165  20100607     MONDAY    21:00      37.0\n",
       "166  20100607     MONDAY    22:00      34.7\n",
       "167  20100607     MONDAY    23:00      32.6\n",
       "\n",
       "[168 rows x 4 columns]"
      ]
     },
     "execution_count": 12,
     "metadata": {},
     "output_type": "execute_result"
    }
   ],
   "source": [
    "df"
   ]
  },
  {
   "cell_type": "markdown",
   "metadata": {},
   "source": [
    "## Bar Charts\n",
    "- A Bar chart presents categorial data with rectangular bars with heigths (or lengths) proportional to the values that they represent;\n",
    "- Can be **Continuous** or **Categorical**:\n",
    "    - The weight, height and age of respondents in a survey would represent continuous variable;\n",
    "    - person's gender, occupation, or marital status are categorial or discrete variables.\n",
    "- With Bar Charts we can visualize categorical data.\n",
    "- Tipycally the x-axis is the categories and the y-axis is the count (occurences) in each category;\n",
    "    - However, the y-axis can be any aggregation (count, sum, average, etc).\n",
    "\n"
   ]
  },
  {
   "cell_type": "code",
   "execution_count": 13,
   "metadata": {},
   "outputs": [
    {
     "data": {
      "text/html": [
       "<div>\n",
       "<style scoped>\n",
       "    .dataframe tbody tr th:only-of-type {\n",
       "        vertical-align: middle;\n",
       "    }\n",
       "\n",
       "    .dataframe tbody tr th {\n",
       "        vertical-align: top;\n",
       "    }\n",
       "\n",
       "    .dataframe thead th {\n",
       "        text-align: right;\n",
       "    }\n",
       "</style>\n",
       "<table border=\"1\" class=\"dataframe\">\n",
       "  <thead>\n",
       "    <tr style=\"text-align: right;\">\n",
       "      <th></th>\n",
       "      <th>Rank</th>\n",
       "      <th>NOC</th>\n",
       "      <th>Gold</th>\n",
       "      <th>Silver</th>\n",
       "      <th>Bronze</th>\n",
       "      <th>Total</th>\n",
       "    </tr>\n",
       "  </thead>\n",
       "  <tbody>\n",
       "    <tr>\n",
       "      <th>0</th>\n",
       "      <td>1</td>\n",
       "      <td>Norway</td>\n",
       "      <td>14</td>\n",
       "      <td>14</td>\n",
       "      <td>11</td>\n",
       "      <td>39</td>\n",
       "    </tr>\n",
       "    <tr>\n",
       "      <th>1</th>\n",
       "      <td>2</td>\n",
       "      <td>Germany</td>\n",
       "      <td>14</td>\n",
       "      <td>10</td>\n",
       "      <td>7</td>\n",
       "      <td>31</td>\n",
       "    </tr>\n",
       "    <tr>\n",
       "      <th>2</th>\n",
       "      <td>3</td>\n",
       "      <td>Canada</td>\n",
       "      <td>11</td>\n",
       "      <td>8</td>\n",
       "      <td>10</td>\n",
       "      <td>29</td>\n",
       "    </tr>\n",
       "    <tr>\n",
       "      <th>3</th>\n",
       "      <td>4</td>\n",
       "      <td>United States</td>\n",
       "      <td>9</td>\n",
       "      <td>8</td>\n",
       "      <td>6</td>\n",
       "      <td>23</td>\n",
       "    </tr>\n",
       "    <tr>\n",
       "      <th>4</th>\n",
       "      <td>5</td>\n",
       "      <td>Netherlands</td>\n",
       "      <td>8</td>\n",
       "      <td>6</td>\n",
       "      <td>6</td>\n",
       "      <td>20</td>\n",
       "    </tr>\n",
       "    <tr>\n",
       "      <th>5</th>\n",
       "      <td>6</td>\n",
       "      <td>Sweden</td>\n",
       "      <td>7</td>\n",
       "      <td>6</td>\n",
       "      <td>1</td>\n",
       "      <td>14</td>\n",
       "    </tr>\n",
       "    <tr>\n",
       "      <th>6</th>\n",
       "      <td>7</td>\n",
       "      <td>Republic of Korea</td>\n",
       "      <td>5</td>\n",
       "      <td>8</td>\n",
       "      <td>4</td>\n",
       "      <td>17</td>\n",
       "    </tr>\n",
       "  </tbody>\n",
       "</table>\n",
       "</div>"
      ],
      "text/plain": [
       "   Rank                NOC  Gold  Silver  Bronze  Total\n",
       "0     1             Norway    14      14      11     39\n",
       "1     2            Germany    14      10       7     31\n",
       "2     3             Canada    11       8      10     29\n",
       "3     4      United States     9       8       6     23\n",
       "4     5        Netherlands     8       6       6     20\n",
       "5     6             Sweden     7       6       1     14\n",
       "6     7  Republic of Korea     5       8       4     17"
      ]
     },
     "execution_count": 13,
     "metadata": {},
     "output_type": "execute_result"
    }
   ],
   "source": [
    "df = pd.read_csv('../Data/2018WinterOlympics.csv')\n",
    "df.head(7)"
   ]
  },
  {
   "cell_type": "markdown",
   "metadata": {},
   "source": [
    "Normal Bar Chart with only one element (totals)"
   ]
  },
  {
   "cell_type": "code",
   "execution_count": 14,
   "metadata": {},
   "outputs": [
    {
     "name": "stderr",
     "output_type": "stream",
     "text": [
      "/home/fabio/anaconda3/envs/dash/lib/python3.6/site-packages/plotly/offline/offline.py:459: UserWarning:\n",
      "\n",
      "Your filename `Bar_Medals_01` didn't end with .html. Adding .html to the end of your file.\n",
      "\n"
     ]
    },
    {
     "data": {
      "text/plain": [
       "'file:///home/fabio/Documents/github/Plotly-Dash-Course/03 Plotly Basics/Bar_Medals_01.html'"
      ]
     },
     "execution_count": 14,
     "metadata": {},
     "output_type": "execute_result"
    }
   ],
   "source": [
    "data = [go.Bar(\n",
    "                x=df.NOC,\n",
    "                y= df.Total)]\n",
    "                \n",
    "layout = go.Layout(title= 'Medals')\n",
    "fig = go.Figure(data= data, layout= layout)\n",
    "pyo.plot(fig, filename= 'Bar_Medals_01')"
   ]
  },
  {
   "cell_type": "markdown",
   "metadata": {},
   "source": [
    "Nested Bar chart"
   ]
  },
  {
   "cell_type": "code",
   "execution_count": 15,
   "metadata": {},
   "outputs": [
    {
     "name": "stderr",
     "output_type": "stream",
     "text": [
      "/home/fabio/anaconda3/envs/dash/lib/python3.6/site-packages/plotly/offline/offline.py:459: UserWarning:\n",
      "\n",
      "Your filename `Bar_Medals_02` didn't end with .html. Adding .html to the end of your file.\n",
      "\n"
     ]
    },
    {
     "data": {
      "text/plain": [
       "'file:///home/fabio/Documents/github/Plotly-Dash-Course/03 Plotly Basics/Bar_Medals_02.html'"
      ]
     },
     "execution_count": 15,
     "metadata": {},
     "output_type": "execute_result"
    }
   ],
   "source": [
    "trace_gold = go.Bar(x= df.NOC, \n",
    "                y= df.Gold, \n",
    "                name= 'Gold', \n",
    "                marker= {'color': '#FFD700'})\n",
    "\n",
    "trace_silver = go.Bar(x= df.NOC, \n",
    "                y= df.Silver, \n",
    "                name= 'Silver', \n",
    "                marker= {'color': '#9EA0A1'})\n",
    "\n",
    "trace_bronze = go.Bar(x= df.NOC, \n",
    "                y= df.Bronze, \n",
    "                name= 'Bronze', \n",
    "                marker= {'color': '#CD7F32'})\n",
    "\n",
    "data = [trace_gold, trace_silver, trace_bronze]\n",
    "layout = go.Layout(title= 'Medals')\n",
    "fig = go.Figure(data= data, layout= layout)\n",
    "pyo.plot(fig, filename= 'Bar_Medals_02')\n"
   ]
  },
  {
   "cell_type": "markdown",
   "metadata": {},
   "source": [
    "Normal Bar chart (Stacked) with **barmode** setted"
   ]
  },
  {
   "cell_type": "code",
   "execution_count": 16,
   "metadata": {},
   "outputs": [
    {
     "name": "stderr",
     "output_type": "stream",
     "text": [
      "/home/fabio/anaconda3/envs/dash/lib/python3.6/site-packages/plotly/offline/offline.py:459: UserWarning:\n",
      "\n",
      "Your filename `Bar_Medals_03` didn't end with .html. Adding .html to the end of your file.\n",
      "\n"
     ]
    },
    {
     "data": {
      "text/plain": [
       "'file:///home/fabio/Documents/github/Plotly-Dash-Course/03 Plotly Basics/Bar_Medals_03.html'"
      ]
     },
     "execution_count": 16,
     "metadata": {},
     "output_type": "execute_result"
    }
   ],
   "source": [
    "trace_gold = go.Bar(x= df.NOC, \n",
    "                y= df.Gold, \n",
    "                name= 'Gold', \n",
    "                marker= {'color': '#FFD700'})\n",
    "\n",
    "trace_silver = go.Bar(x= df.NOC, \n",
    "                y= df.Silver, \n",
    "                name= 'Silver', \n",
    "                marker= {'color': '#9EA0A1'})\n",
    "\n",
    "trace_bronze = go.Bar(x= df.NOC, \n",
    "                y= df.Bronze, \n",
    "                name= 'Bronze', \n",
    "                marker= {'color': '#CD7F32'})\n",
    "\n",
    "data = [trace_gold, trace_silver, trace_bronze]\n",
    "layout = go.Layout(title= 'Medals', barmode= 'stack')\n",
    "fig = go.Figure(data= data, layout= layout)\n",
    "pyo.plot(fig, filename= 'Bar_Medals_03')\n"
   ]
  },
  {
   "cell_type": "markdown",
   "metadata": {},
   "source": [
    "### Exercise\n",
    "Objective:\n",
    "\\\n",
    "Create a stacked bar chart from the file ../data/mocksurvey.csv. Note that questions appear in the index (and should be used for the x-axis), while responses appear as column labels.  Extra Credit: make a horizontal bar chart!"
   ]
  },
  {
   "cell_type": "code",
   "execution_count": 17,
   "metadata": {},
   "outputs": [
    {
     "name": "stderr",
     "output_type": "stream",
     "text": [
      "/home/fabio/anaconda3/envs/dash/lib/python3.6/site-packages/plotly/offline/offline.py:459: UserWarning:\n",
      "\n",
      "Your filename `Exercise_Bar_Chart` didn't end with .html. Adding .html to the end of your file.\n",
      "\n"
     ]
    },
    {
     "data": {
      "text/plain": [
       "'file:///home/fabio/Documents/github/Plotly-Dash-Course/03 Plotly Basics/Exercise_Bar_Chart.html'"
      ]
     },
     "execution_count": 17,
     "metadata": {},
     "output_type": "execute_result"
    }
   ],
   "source": [
    "\n",
    "#######\n",
    "\n",
    "######\n",
    "\n",
    "# create a DataFrame from the .csv file:\n",
    "df = pd.read_csv('../Data/mocksurvey.csv', index_col= 0)\n",
    "\n",
    "\n",
    "# create traces using a list comprehension:\n",
    "traces = [go.Bar({\n",
    "        'x': df.index,\n",
    "        'y': df[response],\n",
    "        'orientation': 'h',\n",
    "        'name': response\n",
    "}) for response in df.columns]\n",
    "\n",
    "\n",
    "\n",
    "\n",
    "\n",
    "# create a layout, remember to set the barmode here\n",
    "layout = go.Layout(title= 'Survey Results - Bar Chart', barmode= 'stack')\n",
    "fig = go.Figure(data= traces, layout= layout)\n",
    "pyo.plot(fig, filename= 'Exercise_Bar_Chart')\n",
    "\n",
    "\n",
    "\n",
    "\n",
    "# create a fig from data & layout, and plot the fig.\n"
   ]
  },
  {
   "cell_type": "code",
   "execution_count": 18,
   "metadata": {},
   "outputs": [
    {
     "data": {
      "text/html": [
       "<div>\n",
       "<style scoped>\n",
       "    .dataframe tbody tr th:only-of-type {\n",
       "        vertical-align: middle;\n",
       "    }\n",
       "\n",
       "    .dataframe tbody tr th {\n",
       "        vertical-align: top;\n",
       "    }\n",
       "\n",
       "    .dataframe thead th {\n",
       "        text-align: right;\n",
       "    }\n",
       "</style>\n",
       "<table border=\"1\" class=\"dataframe\">\n",
       "  <thead>\n",
       "    <tr style=\"text-align: right;\">\n",
       "      <th></th>\n",
       "      <th>Strongly Agree</th>\n",
       "      <th>Somewhat Agree</th>\n",
       "      <th>Neutral</th>\n",
       "      <th>Somewhat Disagree</th>\n",
       "      <th>Strongly Disagree</th>\n",
       "    </tr>\n",
       "  </thead>\n",
       "  <tbody>\n",
       "    <tr>\n",
       "      <th>Question 1</th>\n",
       "      <td>0.45</td>\n",
       "      <td>0.25</td>\n",
       "      <td>0.10</td>\n",
       "      <td>0.12</td>\n",
       "      <td>0.08</td>\n",
       "    </tr>\n",
       "    <tr>\n",
       "      <th>Question 2</th>\n",
       "      <td>0.12</td>\n",
       "      <td>0.07</td>\n",
       "      <td>0.48</td>\n",
       "      <td>0.18</td>\n",
       "      <td>0.15</td>\n",
       "    </tr>\n",
       "    <tr>\n",
       "      <th>Question 3</th>\n",
       "      <td>0.05</td>\n",
       "      <td>0.22</td>\n",
       "      <td>0.19</td>\n",
       "      <td>0.23</td>\n",
       "      <td>0.31</td>\n",
       "    </tr>\n",
       "  </tbody>\n",
       "</table>\n",
       "</div>"
      ],
      "text/plain": [
       "            Strongly Agree  Somewhat Agree  Neutral  Somewhat Disagree  \\\n",
       "Question 1            0.45            0.25     0.10               0.12   \n",
       "Question 2            0.12            0.07     0.48               0.18   \n",
       "Question 3            0.05            0.22     0.19               0.23   \n",
       "\n",
       "            Strongly Disagree  \n",
       "Question 1               0.08  \n",
       "Question 2               0.15  \n",
       "Question 3               0.31  "
      ]
     },
     "execution_count": 18,
     "metadata": {},
     "output_type": "execute_result"
    }
   ],
   "source": [
    "df.head()"
   ]
  },
  {
   "cell_type": "markdown",
   "metadata": {},
   "source": [
    "## Bubble Charts\n",
    "- Very similar to scatter plots, except we have a third variable information through the size of the markers;\n",
    "- We can also continue to add variable information by coloring points based on a category;"
   ]
  },
  {
   "cell_type": "code",
   "execution_count": 20,
   "metadata": {},
   "outputs": [
    {
     "data": {
      "text/html": [
       "<div>\n",
       "<style scoped>\n",
       "    .dataframe tbody tr th:only-of-type {\n",
       "        vertical-align: middle;\n",
       "    }\n",
       "\n",
       "    .dataframe tbody tr th {\n",
       "        vertical-align: top;\n",
       "    }\n",
       "\n",
       "    .dataframe thead th {\n",
       "        text-align: right;\n",
       "    }\n",
       "</style>\n",
       "<table border=\"1\" class=\"dataframe\">\n",
       "  <thead>\n",
       "    <tr style=\"text-align: right;\">\n",
       "      <th></th>\n",
       "      <th>mpg</th>\n",
       "      <th>cylinders</th>\n",
       "      <th>displacement</th>\n",
       "      <th>horsepower</th>\n",
       "      <th>weight</th>\n",
       "      <th>acceleration</th>\n",
       "      <th>model_year</th>\n",
       "      <th>origin</th>\n",
       "      <th>name</th>\n",
       "    </tr>\n",
       "  </thead>\n",
       "  <tbody>\n",
       "    <tr>\n",
       "      <th>0</th>\n",
       "      <td>18.0</td>\n",
       "      <td>8</td>\n",
       "      <td>307.0</td>\n",
       "      <td>130</td>\n",
       "      <td>3504</td>\n",
       "      <td>12.0</td>\n",
       "      <td>70</td>\n",
       "      <td>1</td>\n",
       "      <td>chevrolet chevelle malibu</td>\n",
       "    </tr>\n",
       "    <tr>\n",
       "      <th>1</th>\n",
       "      <td>15.0</td>\n",
       "      <td>8</td>\n",
       "      <td>350.0</td>\n",
       "      <td>165</td>\n",
       "      <td>3693</td>\n",
       "      <td>11.5</td>\n",
       "      <td>70</td>\n",
       "      <td>1</td>\n",
       "      <td>buick skylark 320</td>\n",
       "    </tr>\n",
       "    <tr>\n",
       "      <th>2</th>\n",
       "      <td>18.0</td>\n",
       "      <td>8</td>\n",
       "      <td>318.0</td>\n",
       "      <td>150</td>\n",
       "      <td>3436</td>\n",
       "      <td>11.0</td>\n",
       "      <td>70</td>\n",
       "      <td>1</td>\n",
       "      <td>plymouth satellite</td>\n",
       "    </tr>\n",
       "    <tr>\n",
       "      <th>3</th>\n",
       "      <td>16.0</td>\n",
       "      <td>8</td>\n",
       "      <td>304.0</td>\n",
       "      <td>150</td>\n",
       "      <td>3433</td>\n",
       "      <td>12.0</td>\n",
       "      <td>70</td>\n",
       "      <td>1</td>\n",
       "      <td>amc rebel sst</td>\n",
       "    </tr>\n",
       "    <tr>\n",
       "      <th>4</th>\n",
       "      <td>17.0</td>\n",
       "      <td>8</td>\n",
       "      <td>302.0</td>\n",
       "      <td>140</td>\n",
       "      <td>3449</td>\n",
       "      <td>10.5</td>\n",
       "      <td>70</td>\n",
       "      <td>1</td>\n",
       "      <td>ford torino</td>\n",
       "    </tr>\n",
       "  </tbody>\n",
       "</table>\n",
       "</div>"
      ],
      "text/plain": [
       "    mpg  cylinders  displacement horsepower  weight  acceleration  model_year  \\\n",
       "0  18.0          8         307.0        130    3504          12.0          70   \n",
       "1  15.0          8         350.0        165    3693          11.5          70   \n",
       "2  18.0          8         318.0        150    3436          11.0          70   \n",
       "3  16.0          8         304.0        150    3433          12.0          70   \n",
       "4  17.0          8         302.0        140    3449          10.5          70   \n",
       "\n",
       "   origin                       name  \n",
       "0       1  chevrolet chevelle malibu  \n",
       "1       1          buick skylark 320  \n",
       "2       1         plymouth satellite  \n",
       "3       1              amc rebel sst  \n",
       "4       1                ford torino  "
      ]
     },
     "execution_count": 20,
     "metadata": {},
     "output_type": "execute_result"
    }
   ],
   "source": [
    "df = pd.read_csv('../Data/mpg.csv')\n",
    "df.head(5)"
   ]
  },
  {
   "cell_type": "code",
   "execution_count": 22,
   "metadata": {},
   "outputs": [
    {
     "name": "stderr",
     "output_type": "stream",
     "text": [
      "/home/fabio/anaconda3/envs/dash/lib/python3.6/site-packages/plotly/offline/offline.py:459: UserWarning:\n",
      "\n",
      "Your filename `Bubble_Chart_01` didn't end with .html. Adding .html to the end of your file.\n",
      "\n"
     ]
    },
    {
     "data": {
      "text/plain": [
       "'file:///home/fabio/Documents/github/Plotly-Dash-Course/03 Plotly Basics/Bubble_Chart_01.html'"
      ]
     },
     "execution_count": 22,
     "metadata": {},
     "output_type": "execute_result"
    }
   ],
   "source": [
    "data = [go.Scatter(\n",
    "                    x= df.horsepower,\n",
    "                    y= df.mpg,\n",
    "                    text= df.name,\n",
    "                    mode= 'markers',\n",
    "                    marker= dict(size= 2*df.cylinders)\n",
    "                )]\n",
    "\n",
    "layout = go.Layout(title= 'Bubble chart')\n",
    "fig = go.Figure(data= data, layout= layout)\n",
    "pyo.plot(fig, filename= 'Bubble_Chart_01')"
   ]
  },
  {
   "cell_type": "code",
   "execution_count": 25,
   "metadata": {},
   "outputs": [
    {
     "name": "stderr",
     "output_type": "stream",
     "text": [
      "/home/fabio/anaconda3/envs/dash/lib/python3.6/site-packages/plotly/offline/offline.py:459: UserWarning:\n",
      "\n",
      "Your filename `Bubble_Chart_02` didn't end with .html. Adding .html to the end of your file.\n",
      "\n"
     ]
    },
    {
     "data": {
      "text/plain": [
       "'file:///home/fabio/Documents/github/Plotly-Dash-Course/03 Plotly Basics/Bubble_Chart_02.html'"
      ]
     },
     "execution_count": 25,
     "metadata": {},
     "output_type": "execute_result"
    }
   ],
   "source": [
    "data = [go.Scatter(\n",
    "                    x= df.horsepower,\n",
    "                    y= df.mpg,\n",
    "                    text= df.name,\n",
    "                    mode= 'markers',\n",
    "                    marker= dict(size= df.weight/200)\n",
    "                )]\n",
    "\n",
    "layout = go.Layout(title= 'Bubble chart')\n",
    "fig = go.Figure(data= data, layout= layout)\n",
    "pyo.plot(fig, filename= 'Bubble_Chart_02')"
   ]
  },
  {
   "cell_type": "code",
   "execution_count": 27,
   "metadata": {},
   "outputs": [
    {
     "name": "stderr",
     "output_type": "stream",
     "text": [
      "/home/fabio/anaconda3/envs/dash/lib/python3.6/site-packages/plotly/offline/offline.py:459: UserWarning:\n",
      "\n",
      "Your filename `Bubble_Chart_03` didn't end with .html. Adding .html to the end of your file.\n",
      "\n"
     ]
    },
    {
     "data": {
      "text/plain": [
       "'file:///home/fabio/Documents/github/Plotly-Dash-Course/03 Plotly Basics/Bubble_Chart_03.html'"
      ]
     },
     "execution_count": 27,
     "metadata": {},
     "output_type": "execute_result"
    }
   ],
   "source": [
    "data = [go.Scatter(\n",
    "                    x= df.horsepower,\n",
    "                    y= df.mpg,\n",
    "                    text= df.name,\n",
    "                    mode= 'markers',\n",
    "                    marker= dict(size= df.weight/100, color= df.cylinders, showscale= True)\n",
    "                )]\n",
    "\n",
    "layout = go.Layout(title= 'Bubble chart')\n",
    "fig = go.Figure(data= data, layout= layout)\n",
    "pyo.plot(fig, filename= 'Bubble_Chart_03')"
   ]
  },
  {
   "cell_type": "markdown",
   "metadata": {},
   "source": [
    "### Bubble Chart Exercises\n",
    "\n",
    "Objective:  \n",
    "Create a bubble chart that compares three other features\n",
    "from the mpg.csv dataset. \\\n",
    "Fields include: 'mpg', 'cylinders', 'displacement'\n",
    "'horsepower', 'weight', 'acceleration', 'model_year', 'origin', 'name'"
   ]
  },
  {
   "cell_type": "code",
   "execution_count": 35,
   "metadata": {},
   "outputs": [
    {
     "name": "stderr",
     "output_type": "stream",
     "text": [
      "/home/fabio/anaconda3/envs/dash/lib/python3.6/site-packages/plotly/offline/offline.py:459: UserWarning:\n",
      "\n",
      "Your filename `Exercise_Bubble_Chart` didn't end with .html. Adding .html to the end of your file.\n",
      "\n"
     ]
    },
    {
     "data": {
      "text/plain": [
       "'file:///home/fabio/Documents/github/Plotly-Dash-Course/03 Plotly Basics/Exercise_Bubble_Chart.html'"
      ]
     },
     "execution_count": 35,
     "metadata": {},
     "output_type": "execute_result"
    }
   ],
   "source": [
    "# create a DataFrame from the .csv file:\n",
    "df = pd.read_csv('../Data/mpg.csv')\n",
    "\n",
    "# create data by choosing fields for x, y and marker size attributes\n",
    "data = [go.Scatter(\n",
    "                    x= df.acceleration,\n",
    "                    y= df.horsepower,\n",
    "                    text= df.name,\n",
    "                    marker= dict(size= df.mpg/2, color= df.model_year, showscale= True),\n",
    "                    mode= 'markers'\n",
    "\n",
    ")]\n",
    "\n",
    "# create a layout with a title and axis labels\n",
    "layout = go.Layout(title= 'Bubble Chart Exercise', hovermode= 'closest')\n",
    "\n",
    "# create a fig from data & layout, and plot the fig\n",
    "figure = go.Figure(data= data, layout= layout)\n",
    "pyo.plot(figure, filename= 'Exercise_Bubble_Chart')"
   ]
  },
  {
   "cell_type": "code",
   "execution_count": 28,
   "metadata": {},
   "outputs": [
    {
     "data": {
      "text/html": [
       "<div>\n",
       "<style scoped>\n",
       "    .dataframe tbody tr th:only-of-type {\n",
       "        vertical-align: middle;\n",
       "    }\n",
       "\n",
       "    .dataframe tbody tr th {\n",
       "        vertical-align: top;\n",
       "    }\n",
       "\n",
       "    .dataframe thead th {\n",
       "        text-align: right;\n",
       "    }\n",
       "</style>\n",
       "<table border=\"1\" class=\"dataframe\">\n",
       "  <thead>\n",
       "    <tr style=\"text-align: right;\">\n",
       "      <th></th>\n",
       "      <th>mpg</th>\n",
       "      <th>cylinders</th>\n",
       "      <th>displacement</th>\n",
       "      <th>horsepower</th>\n",
       "      <th>weight</th>\n",
       "      <th>acceleration</th>\n",
       "      <th>model_year</th>\n",
       "      <th>origin</th>\n",
       "      <th>name</th>\n",
       "    </tr>\n",
       "  </thead>\n",
       "  <tbody>\n",
       "    <tr>\n",
       "      <th>0</th>\n",
       "      <td>18.0</td>\n",
       "      <td>8</td>\n",
       "      <td>307.0</td>\n",
       "      <td>130</td>\n",
       "      <td>3504</td>\n",
       "      <td>12.0</td>\n",
       "      <td>70</td>\n",
       "      <td>1</td>\n",
       "      <td>chevrolet chevelle malibu</td>\n",
       "    </tr>\n",
       "    <tr>\n",
       "      <th>1</th>\n",
       "      <td>15.0</td>\n",
       "      <td>8</td>\n",
       "      <td>350.0</td>\n",
       "      <td>165</td>\n",
       "      <td>3693</td>\n",
       "      <td>11.5</td>\n",
       "      <td>70</td>\n",
       "      <td>1</td>\n",
       "      <td>buick skylark 320</td>\n",
       "    </tr>\n",
       "    <tr>\n",
       "      <th>2</th>\n",
       "      <td>18.0</td>\n",
       "      <td>8</td>\n",
       "      <td>318.0</td>\n",
       "      <td>150</td>\n",
       "      <td>3436</td>\n",
       "      <td>11.0</td>\n",
       "      <td>70</td>\n",
       "      <td>1</td>\n",
       "      <td>plymouth satellite</td>\n",
       "    </tr>\n",
       "  </tbody>\n",
       "</table>\n",
       "</div>"
      ],
      "text/plain": [
       "    mpg  cylinders  displacement horsepower  weight  acceleration  model_year  \\\n",
       "0  18.0          8         307.0        130    3504          12.0          70   \n",
       "1  15.0          8         350.0        165    3693          11.5          70   \n",
       "2  18.0          8         318.0        150    3436          11.0          70   \n",
       "\n",
       "   origin                       name  \n",
       "0       1  chevrolet chevelle malibu  \n",
       "1       1          buick skylark 320  \n",
       "2       1         plymouth satellite  "
      ]
     },
     "execution_count": 28,
     "metadata": {},
     "output_type": "execute_result"
    }
   ],
   "source": [
    "df.head(3)"
   ]
  },
  {
   "cell_type": "markdown",
   "metadata": {},
   "source": [
    "## Box Plots\n",
    "- Box Plots visualize the variation of a feature by depicting the continuous numerical data through quartiles;\n",
    "- We can then separate the data based on a categorical feature to compare the continuous feature based on category;\n",
    "- The Box Plot is a way of visually displyaing the data distribution through their quartiles;\n",
    "- We can use it to perform a real analysis."
   ]
  },
  {
   "cell_type": "code",
   "execution_count": 38,
   "metadata": {},
   "outputs": [
    {
     "name": "stderr",
     "output_type": "stream",
     "text": [
      "/home/fabio/anaconda3/envs/dash/lib/python3.6/site-packages/plotly/offline/offline.py:459: UserWarning:\n",
      "\n",
      "Your filename `Box_Plot_01` didn't end with .html. Adding .html to the end of your file.\n",
      "\n"
     ]
    },
    {
     "data": {
      "text/plain": [
       "'file:///home/fabio/Documents/github/Plotly-Dash-Course/03 Plotly Basics/Box_Plot_01.html'"
      ]
     },
     "execution_count": 38,
     "metadata": {},
     "output_type": "execute_result"
    }
   ],
   "source": [
    "y = [1,14,14,15,16,18,18,19,19,20,20,23,24,26,27,27,28,29,33,54]\n",
    "\n",
    "data = [go.Box(y=y, boxpoints= 'all', jitter=0.3, pointpos= 0)]\n",
    "pyo.plot(data, filename= \"Box_Plot_01\")"
   ]
  },
  {
   "cell_type": "markdown",
   "metadata": {},
   "source": [
    "Displaying **ONLY** the Outliers"
   ]
  },
  {
   "cell_type": "code",
   "execution_count": 40,
   "metadata": {},
   "outputs": [
    {
     "name": "stderr",
     "output_type": "stream",
     "text": [
      "/home/fabio/anaconda3/envs/dash/lib/python3.6/site-packages/plotly/offline/offline.py:459: UserWarning:\n",
      "\n",
      "Your filename `Box_Plot_02` didn't end with .html. Adding .html to the end of your file.\n",
      "\n"
     ]
    },
    {
     "data": {
      "text/plain": [
       "'file:///home/fabio/Documents/github/Plotly-Dash-Course/03 Plotly Basics/Box_Plot_02.html'"
      ]
     },
     "execution_count": 40,
     "metadata": {},
     "output_type": "execute_result"
    }
   ],
   "source": [
    "y = [1,14,14,15,16,18,18,19,19,20,20,23,24,26,27,27,28,29,33,54]\n",
    "\n",
    "\n",
    "data = [go.Box(y=y, boxpoints= 'outliers')]\n",
    "pyo.plot(data, filename= \"Box_Plot_02\")"
   ]
  },
  {
   "cell_type": "markdown",
   "metadata": {},
   "source": [
    "Three-word frequency analysis between Twain and Snodgrass"
   ]
  },
  {
   "cell_type": "code",
   "execution_count": 4,
   "metadata": {},
   "outputs": [
    {
     "name": "stderr",
     "output_type": "stream",
     "text": [
      "/home/fabio/anaconda3/envs/dash/lib/python3.6/site-packages/plotly/offline/offline.py:459: UserWarning:\n",
      "\n",
      "Your filename `Box_Plot_03` didn't end with .html. Adding .html to the end of your file.\n",
      "\n"
     ]
    },
    {
     "data": {
      "text/plain": [
       "'file:///home/fabio/Documents/github/Plotly-Dash-Course/03 Plotly Basics/Box_Plot_03.html'"
      ]
     },
     "execution_count": 4,
     "metadata": {},
     "output_type": "execute_result"
    }
   ],
   "source": [
    "snodgrass = [.209,.205,.196,.210,.202,.207,.224,.223,.220,.201]\n",
    "twain = [.225,.262,.217,.240,.230,.229,.235,.217]\n",
    "\n",
    "data = [\n",
    "        go.Box(y=snodgrass, name= 'Snoodgrass'),\n",
    "        go.Box(y= twain, name= 'Twain')\n",
    "        ]\n",
    "pyo.plot(data, filename= \"Box_Plot_03\")"
   ]
  },
  {
   "cell_type": "markdown",
   "metadata": {},
   "source": [
    "### Exercise\n",
    "- Objective: Make a DataFrame using the Abalone dataset (../data/abalone.csv).\n",
    "- Take two independent random samples of different sizes from the 'rings' field.\n",
    "    - HINT: np.random.choice(df['rings'],10,replace=False) takes 10 random values\n",
    "- Use box plots to show that the samples do derive from the same population."
   ]
  },
  {
   "cell_type": "code",
   "execution_count": 13,
   "metadata": {},
   "outputs": [
    {
     "name": "stderr",
     "output_type": "stream",
     "text": [
      "/home/fabio/anaconda3/envs/dash/lib/python3.6/site-packages/plotly/offline/offline.py:459: UserWarning:\n",
      "\n",
      "Your filename `Exercise_Bubble_Chart` didn't end with .html. Adding .html to the end of your file.\n",
      "\n"
     ]
    },
    {
     "data": {
      "text/plain": [
       "'file:///home/fabio/Documents/github/Plotly-Dash-Course/03 Plotly Basics/Exercise_Bubble_Chart.html'"
      ]
     },
     "execution_count": 13,
     "metadata": {},
     "output_type": "execute_result"
    }
   ],
   "source": [
    "# create a DataFrame from the .csv file:\n",
    "df = pd.read_csv('../Data/abalone.csv')\n",
    "\n",
    "# take two random samples of different sizes:\n",
    "sample_1 = np.random.choice(df.rings, 10, replace= False)\n",
    "sample_2 = np.random.choice(df.rings, 24, replace= False)\n",
    "\n",
    "# create a data variable with two Box plots:\n",
    "data = [\n",
    "        go.Box(y= sample_1, name= 'Sample 1'),\n",
    "        go.Box(y= sample_2, name= 'Sample 2')\n",
    "]\n",
    "\n",
    "# add a layout\n",
    "layout = go.Layout(title= 'Bubblet Chart exercise')\n",
    "\n",
    "# create a fig from data & layout, and plot the fig\n",
    "fig = go.Figure(data= data, layout= layout)\n",
    "pyo.plot(fig, filename= 'Exercise_Bubble_Chart')"
   ]
  },
  {
   "cell_type": "markdown",
   "metadata": {},
   "source": [
    "## Histogram\n",
    "- Display an accurate representation of the overall distribution of a continuous feature;\n",
    "- To create a histogram, we divide the entire range of values of the continuous feature into a series of intervals;\n",
    "    - This series of intervals are known as \"bins\";\n",
    "- We then conunt the number of occurences per bin;\n",
    "- We can change the bin size to get either more or less details."
   ]
  },
  {
   "cell_type": "code",
   "execution_count": 15,
   "metadata": {},
   "outputs": [
    {
     "name": "stderr",
     "output_type": "stream",
     "text": [
      "/home/fabio/anaconda3/envs/dash/lib/python3.6/site-packages/plotly/offline/offline.py:459: UserWarning:\n",
      "\n",
      "Your filename `Histogram_01` didn't end with .html. Adding .html to the end of your file.\n",
      "\n"
     ]
    },
    {
     "data": {
      "text/plain": [
       "'file:///home/fabio/Documents/github/Plotly-Dash-Course/03 Plotly Basics/Histogram_01.html'"
      ]
     },
     "execution_count": 15,
     "metadata": {},
     "output_type": "execute_result"
    }
   ],
   "source": [
    "df = pd.read_csv('../Data/mpg.csv')\n",
    "\n",
    "data = [go.Histogram(x= df.mpg)]\n",
    "layout = go.Layout(title= 'Histogram')\n",
    "fig = go.Figure(data= data, layout= layout)\n",
    "\n",
    "pyo.plot(fig, filename= 'Histogram_01')"
   ]
  },
  {
   "cell_type": "markdown",
   "metadata": {},
   "source": [
    "Setting the bins"
   ]
  },
  {
   "cell_type": "code",
   "execution_count": 25,
   "metadata": {},
   "outputs": [],
   "source": [
    "df = pd.read_csv('../Data/mpg.csv')\n",
    "\n",
    "data = [\n",
    "        go.Histogram(x= df.mpg,\n",
    "        xbins= dict(start= 0, end= 50, size= 10)\n",
    "    )]\n",
    "layout = go.Layout(title= 'Histogram Size 10')\n",
    "fig = go.Figure(data= data, layout= layout)\n",
    "\n",
    "pyo.plot(fig, filename= 'Histogram_01.html');"
   ]
  },
  {
   "cell_type": "code",
   "execution_count": 26,
   "metadata": {},
   "outputs": [],
   "source": [
    "df = pd.read_csv('../Data/mpg.csv')\n",
    "\n",
    "data = [\n",
    "        go.Histogram(x= df.mpg,\n",
    "        xbins= dict(start= 0, end= 50, size= 2)\n",
    "    )]\n",
    "layout = go.Layout(title= 'Histogram Size 2')\n",
    "fig = go.Figure(data= data, layout= layout)\n",
    "\n",
    "pyo.plot(fig, filename= 'Histogram_02.html');"
   ]
  },
  {
   "cell_type": "markdown",
   "metadata": {},
   "source": [
    "### Exercise\n",
    "- Objective: Create a histogram that plots the 'length' field from the Abalone dataset (../data/abalone.csv).\n",
    "- Set the range from 0 to 1, with a bin size of 0.02"
   ]
  },
  {
   "cell_type": "code",
   "execution_count": 29,
   "metadata": {},
   "outputs": [
    {
     "name": "stderr",
     "output_type": "stream",
     "text": [
      "/home/fabio/anaconda3/envs/dash/lib/python3.6/site-packages/plotly/offline/offline.py:459: UserWarning:\n",
      "\n",
      "Your filename `Exercise_Histogram` didn't end with .html. Adding .html to the end of your file.\n",
      "\n"
     ]
    },
    {
     "data": {
      "text/plain": [
       "'file:///home/fabio/Documents/github/Plotly-Dash-Course/03 Plotly Basics/Exercise_Histogram.html'"
      ]
     },
     "execution_count": 29,
     "metadata": {},
     "output_type": "execute_result"
    }
   ],
   "source": [
    "# create a DataFrame from the .csv file:\n",
    "df = pd.read_csv('../Data/abalone.csv')\n",
    "\n",
    "\n",
    "# create a data variable:\n",
    "data = [\n",
    "        go.Histogram(\n",
    "            x= df.length,\n",
    "            xbins= dict(\n",
    "                start=0 , end=1 , size= 0.02\n",
    "            )\n",
    "\n",
    "        )]\n",
    "\n",
    "\n",
    "# add a layout\n",
    "layout = go.Layout(title= 'Exercise - Histogram of Length Field')\n",
    "fig = go.Figure(data= data, layout= layout)\n",
    "\n",
    "# create a fig from data & layout, and plot the fig\n",
    "pyo.plot(fig, filename= 'Exercise_Histogram')"
   ]
  },
  {
   "cell_type": "markdown",
   "metadata": {},
   "source": [
    "## Distribution Plot\n",
    "- Known as Distplots, tipycally layer three plots on top of one another;\n",
    "- The first is a histogram, where each data point is placed inside a bin of similar values;\n",
    "- The second is a rug plot, where marks are placed along the x-axis for every data point;\n",
    "    - Which let you see the distribution of values inside each bin.\n",
    "- The third plot, include a **Kernel Density Estimate** (KDE) line that tries to describe the shape of the distribution."
   ]
  },
  {
   "cell_type": "code",
   "execution_count": 7,
   "metadata": {},
   "outputs": [],
   "source": [
    "import scipy\n",
    "import plotly.offline as pyo\n",
    "from plotly.tools import FigureFactory as ff ## More complex figures\n",
    "import numpy as np\n",
    "import pandas as pd"
   ]
  },
  {
   "cell_type": "code",
   "execution_count": 5,
   "metadata": {},
   "outputs": [
    {
     "name": "stderr",
     "output_type": "stream",
     "text": [
      "/home/fabio/anaconda3/envs/dash/lib/python3.6/site-packages/plotly/tools.py:1491: UserWarning:\n",
      "\n",
      "plotly.tools.FigureFactory.create_distplot is deprecated. Use plotly.figure_factory.create_distplot\n",
      "\n",
      "/home/fabio/anaconda3/envs/dash/lib/python3.6/site-packages/plotly/offline/offline.py:459: UserWarning:\n",
      "\n",
      "Your filename `Distplot_01` didn't end with .html. Adding .html to the end of your file.\n",
      "\n"
     ]
    }
   ],
   "source": [
    "x1 = np.random.randn(1000)+2\n",
    "\n",
    "\n",
    "hist_data = [x1]\n",
    "group_labels = ['X1']\n",
    "\n",
    "fig = ff.create_distplot(hist_data, group_labels);\n",
    "pyo.plot(fig, filename= 'Distplot_01');"
   ]
  },
  {
   "cell_type": "code",
   "execution_count": 4,
   "metadata": {},
   "outputs": [
    {
     "name": "stderr",
     "output_type": "stream",
     "text": [
      "/home/fabio/anaconda3/envs/dash/lib/python3.6/site-packages/plotly/tools.py:1491: UserWarning:\n",
      "\n",
      "plotly.tools.FigureFactory.create_distplot is deprecated. Use plotly.figure_factory.create_distplot\n",
      "\n",
      "/home/fabio/anaconda3/envs/dash/lib/python3.6/site-packages/plotly/offline/offline.py:459: UserWarning:\n",
      "\n",
      "Your filename `Distplot_02` didn't end with .html. Adding .html to the end of your file.\n",
      "\n"
     ]
    }
   ],
   "source": [
    "x1 = np.random.randn(1000)+2\n",
    "x2 = np.random.randn(1000)\n",
    "x3 = np.random.randn(1000)-2\n",
    "x4 = np.random.randn(1000)+4\n",
    "\n",
    "\n",
    "hist_data = [x1, x2, x3, x4]\n",
    "group_labels = ['X1', 'X2', 'X3', 'X4']\n",
    "\n",
    "fig = ff.create_distplot(hist_data, group_labels);\n",
    "pyo.plot(fig, filename= 'Distplot_02');"
   ]
  },
  {
   "cell_type": "markdown",
   "metadata": {},
   "source": [
    "### Exercise\n",
    "- Objective: Using the iris dataset, develop a Distplot that compares the petal lengths of each class.\n",
    "- File: '../data/iris.csv'\n",
    "    - Fields: 'sepal_length','sepal_width','petal_length','petal_width','class'\n",
    "    - Classes: 'Iris-setosa','Iris-versicolor','Iris-virginica'"
   ]
  },
  {
   "cell_type": "code",
   "execution_count": 26,
   "metadata": {},
   "outputs": [
    {
     "name": "stderr",
     "output_type": "stream",
     "text": [
      "/home/fabio/anaconda3/envs/dash/lib/python3.6/site-packages/plotly/tools.py:1491: UserWarning:\n",
      "\n",
      "plotly.tools.FigureFactory.create_distplot is deprecated. Use plotly.figure_factory.create_distplot\n",
      "\n",
      "/home/fabio/anaconda3/envs/dash/lib/python3.6/site-packages/plotly/offline/offline.py:459: UserWarning:\n",
      "\n",
      "Your filename `Exercise_distplot` didn't end with .html. Adding .html to the end of your file.\n",
      "\n"
     ]
    },
    {
     "data": {
      "text/plain": [
       "'file:///home/fabio/Documents/github/Plotly-Dash-Course/03 Plotly Basics/Exercise_distplot.html'"
      ]
     },
     "execution_count": 26,
     "metadata": {},
     "output_type": "execute_result"
    }
   ],
   "source": [
    "# create a DataFrame from the .csv file:\n",
    "df = pd.read_csv('../Data/iris.csv')\n",
    "\n",
    "\n",
    "# Define the traces\n",
    "\n",
    "# HINT:\n",
    "# This grabs the petal_length column for a particular flower\n",
    "x1 = df[df['class']=='Iris-setosa']['petal_length']\n",
    "x2 = df[df['class']=='Iris-versicolor']['petal_length']\n",
    "x3 = df[df['class']=='Iris-virginica']['petal_length']\n",
    "\n",
    "# Define a data variable\n",
    "data = [x1, x2, x3]\n",
    "group_labels= ['Iris Setosa','Iris Versicolor','Iris Virginica']\n",
    "\n",
    "# Create a fig from data and layout, and plot the fig\n",
    "fig = ff.create_distplot(data, group_labels)\n",
    "pyo.plot(fig, filename= 'Exercise_distplot')"
   ]
  },
  {
   "cell_type": "markdown",
   "metadata": {},
   "source": [
    "## Heatmap"
   ]
  },
  {
   "cell_type": "markdown",
   "metadata": {},
   "source": [
    "### Exercise\n",
    "- Objective: Using the \"flights\" dataset available\n",
    "- from the data folder as flights.csv\n",
    "- create a heatmap with the following parameters:\n",
    "- x-axis=\"year\"\n",
    "- y-axis=\"month\"\n",
    "- z-axis(color)=\"passengers\""
   ]
  },
  {
   "cell_type": "code",
   "execution_count": null,
   "metadata": {},
   "outputs": [],
   "source": [
    "# Create a DataFrame from  \"flights\" data\n",
    "df = pd.read_csv('../data/flights.csv')\n",
    "\n",
    "# Define a data variable\n",
    "\n",
    "\n",
    "\n",
    "\n",
    "\n",
    "\n",
    "# Define the layout\n",
    "\n",
    "\n",
    "\n",
    "# Create a fig from data and layout, and plot the fig"
   ]
  }
 ],
 "metadata": {
  "interpreter": {
   "hash": "7960ff628de6b240d8ae67deb14d436262ee3d22e6e21b1d1103f39be3020588"
  },
  "kernelspec": {
   "display_name": "Python 3.6.13 ('dash')",
   "language": "python",
   "name": "python3"
  },
  "language_info": {
   "codemirror_mode": {
    "name": "ipython",
    "version": 3
   },
   "file_extension": ".py",
   "mimetype": "text/x-python",
   "name": "python",
   "nbconvert_exporter": "python",
   "pygments_lexer": "ipython3",
   "version": "3.6.13"
  },
  "orig_nbformat": 4
 },
 "nbformat": 4,
 "nbformat_minor": 2
}

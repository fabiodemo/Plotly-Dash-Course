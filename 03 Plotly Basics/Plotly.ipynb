{
 "cells": [
  {
   "cell_type": "markdown",
   "metadata": {},
   "source": [
    "# Introduction to Plotly"
   ]
  },
  {
   "cell_type": "markdown",
   "metadata": {},
   "source": [
    "## Scatter Plot\n",
    "Scatter plots allow the comparison of two variables for a set of data. \\\n",
    "Depending on the trend of te scatter points, we could interpret a correlation."
   ]
  },
  {
   "cell_type": "code",
   "execution_count": 2,
   "metadata": {},
   "outputs": [],
   "source": [
    "import numpy as np\n",
    "import plotly.offline as pyo\n",
    "import plotly.graph_objs as go"
   ]
  },
  {
   "cell_type": "code",
   "execution_count": 4,
   "metadata": {},
   "outputs": [],
   "source": [
    "np.random.seed(42)\n",
    "random_x = np.random.randint(1, 101, 100)\n",
    "random_y = np.random.randint(1, 101, 100)"
   ]
  },
  {
   "cell_type": "code",
   "execution_count": 5,
   "metadata": {},
   "outputs": [
    {
     "data": {
      "text/plain": [
       "'file:///home/fabio/Documents/github/Plotly-Dash-Course/03 Plotly Basics/scatter.html'"
      ]
     },
     "execution_count": 5,
     "metadata": {},
     "output_type": "execute_result"
    }
   ],
   "source": [
    "data = [go.Scatter(x= random_x, y= random_y, mode= 'markers')]\n",
    "pyo.plot(data, filename='scatter.html')"
   ]
  },
  {
   "cell_type": "code",
   "execution_count": 12,
   "metadata": {},
   "outputs": [
    {
     "data": {
      "text/plain": [
       "'file:///home/fabio/Documents/github/Plotly-Dash-Course/03 Plotly Basics/scatter.html'"
      ]
     },
     "execution_count": 12,
     "metadata": {},
     "output_type": "execute_result"
    }
   ],
   "source": [
    "data = [go.Scatter(\n",
    "                    x= random_x, \n",
    "                    y= random_y, \n",
    "                    mode= 'markers',\n",
    "                    marker= dict(\n",
    "                                size= 12,\n",
    "                                color= 'rgb(51, 204, 153)',\n",
    "                                symbol= 'star',\n",
    "                                line= {'width': 2}\n",
    "                    ))]\n",
    "\n",
    "layout = go.Layout(\n",
    "                    title= 'Correlation Between Two Variables',\n",
    "                    xaxis= {'title': 'MY X AXIS'},\n",
    "                    yaxis= dict(title='MY Y AXIS'),\n",
    "                    hovermode= 'closest'\n",
    "                )\n",
    "\n",
    "fig = go.Figure(data= data, layout= layout)\n",
    "pyo.plot(fig, filename='scatter.html')"
   ]
  },
  {
   "cell_type": "markdown",
   "metadata": {},
   "source": [
    "## Line Chart \n",
    "A line chart displays a series of data points (markers) connected by line segments. \\\n",
    "Similar to scatter plot, but the measurement points are orders (typically by their x-axis value) and joined with straight line segments \\\n",
    "Often used to visualize a trend in data over intervals of time (time series)"
   ]
  },
  {
   "cell_type": "markdown",
   "metadata": {},
   "source": [
    "### Part I"
   ]
  },
  {
   "cell_type": "code",
   "execution_count": 14,
   "metadata": {},
   "outputs": [],
   "source": [
    "np.random.seed(56)\n",
    "x_values = np.linspace(0, 1, 100)\n",
    "y_values = np.random.randn(100)"
   ]
  },
  {
   "cell_type": "code",
   "execution_count": 26,
   "metadata": {},
   "outputs": [
    {
     "name": "stderr",
     "output_type": "stream",
     "text": [
      "/home/fabio/anaconda3/envs/dash/lib/python3.6/site-packages/plotly/offline/offline.py:459: UserWarning:\n",
      "\n",
      "Your filename `line_chart` didn't end with .html. Adding .html to the end of your file.\n",
      "\n"
     ]
    },
    {
     "data": {
      "text/plain": [
       "'file:///home/fabio/Documents/github/Plotly-Dash-Course/03 Plotly Basics/line_chart.html'"
      ]
     },
     "execution_count": 26,
     "metadata": {},
     "output_type": "execute_result"
    }
   ],
   "source": [
    "trace0 = go.Scatter(x= x_values, y= y_values+7, \n",
    "                    mode= 'markers', name= 'markers')\n",
    "trace1 = go.Scatter(x= x_values, y= y_values, \n",
    "                    mode= 'lines', name= 'mylines')\n",
    "trace2 = go.Scatter(x= x_values, y= y_values-7, \n",
    "                    mode= 'lines+markers', name= 'line+markers')\n",
    "\n",
    "data = [trace0, trace1, trace2]\n",
    "\n",
    "layout = go.Layout(title= 'Line Chart')\n",
    "fig = go.Figure(data= data, layout= layout)\n",
    "pyo.plot(fig, filename= 'line_chart')"
   ]
  },
  {
   "cell_type": "markdown",
   "metadata": {},
   "source": [
    "### Part II"
   ]
  },
  {
   "cell_type": "code",
   "execution_count": null,
   "metadata": {},
   "outputs": [],
   "source": [
    "df = pd.read_csv('')"
   ]
  }
 ],
 "metadata": {
  "interpreter": {
   "hash": "7960ff628de6b240d8ae67deb14d436262ee3d22e6e21b1d1103f39be3020588"
  },
  "kernelspec": {
   "display_name": "Python 3.6.13 ('dash')",
   "language": "python",
   "name": "python3"
  },
  "language_info": {
   "codemirror_mode": {
    "name": "ipython",
    "version": 3
   },
   "file_extension": ".py",
   "mimetype": "text/x-python",
   "name": "python",
   "nbconvert_exporter": "python",
   "pygments_lexer": "ipython3",
   "version": "3.6.13"
  },
  "orig_nbformat": 4
 },
 "nbformat": 4,
 "nbformat_minor": 2
}
